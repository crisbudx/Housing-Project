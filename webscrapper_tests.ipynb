{
 "cells": [
  {
   "cell_type": "code",
   "execution_count": 53,
   "metadata": {},
   "outputs": [
    {
     "data": {
      "text/plain": [
       "<module 'webscrapper_functions' from 'c:\\\\Users\\\\budcr\\\\Desktop\\\\Housing Project\\\\Webscrapper\\\\webscrapper_functions.py'>"
      ]
     },
     "execution_count": 53,
     "metadata": {},
     "output_type": "execute_result"
    }
   ],
   "source": [
    "import webscrapper_functions as wf\n",
    "import importlib \n",
    "importlib.reload(wf)"
   ]
  },
  {
   "cell_type": "code",
   "execution_count": 42,
   "metadata": {},
   "outputs": [
    {
     "name": "stdout",
     "output_type": "stream",
     "text": [
      "<li class=\"css-p74l73 es62z2j17\"><a class=\"css-rvjxyq es62z2j14\" data-cy=\"listing-item-link\" data-cy-viewed=\"false\" href=\"/pl/oferta/mieszkanie-2-pokoje-kuchnia-siedlce-srodmiescie-ID4fU4Q\"><aside class=\"css-jgaj2c es62z2j13\"><picture><source data-cy=\"listing-item-image-source\" media=\"(max-width: 768px)\" srcset=\"https://ireland.apollo.olxcdn.com/v1/files/eyJmbiI6IjY4bGZicW1vZjhydTEtQVBMIiwidyI6W3siZm4iOiJlbnZmcXFlMWF5NGsxLUFQTCIsInMiOiIxNCIsInAiOiIxMCwtMTAiLCJhIjoiMCJ9XX0.GHPuRg6_si3mi0h_cR5F6s4FQk4RjKyK9H-9EvY8uxs/image;s=655x491;q=80\"/><source data-cy=\"listing-item-image-source\" media=\"(min-width: 768px)\" srcset=\"https://ireland.apollo.olxcdn.com/v1/files/eyJmbiI6IjY4bGZicW1vZjhydTEtQVBMIiwidyI6W3siZm4iOiJlbnZmcXFlMWF5NGsxLUFQTCIsInMiOiIxNCIsInAiOiIxMCwtMTAiLCJhIjoiMCJ9XX0.GHPuRg6_si3mi0h_cR5F6s4FQk4RjKyK9H-9EvY8uxs/image;s=1280x1024;q=80\"/><img alt=\"Mieszkanie 2 pokoje+kuchnia, Siedlce/Śródmieście\" class=\"css-1a0pll es62z2j15\" height=\"210\" loading=\"lazy\" src=\"https://ireland.apollo.olxcdn.com/v1/files/eyJmbiI6IjY4bGZicW1vZjhydTEtQVBMIiwidyI6W3siZm4iOiJlbnZmcXFlMWF5NGsxLUFQTCIsInMiOiIxNCIsInAiOiIxMCwtMTAiLCJhIjoiMCJ9XX0.GHPuRg6_si3mi0h_cR5F6s4FQk4RjKyK9H-9EvY8uxs/image;s=1280x1024;q=80\" width=\"300\"/></picture><button aria-label=\"Dodaj do ulubionych\" class=\"es62z2j6 css-9v5gw0 etbae431\" data-cy=\"listing-subscribe-button.subscribe\" data-cy-subscribed=\"false\" type=\"button\"><svg aria-hidden=\"true\" class=\"svg-inline--fa fa-heart fa-w-16 fa-lg css-dlex5q etbae430\" data-icon=\"heart\" data-prefix=\"far\" focusable=\"false\" height=\"24\" role=\"img\" viewbox=\"0 0 512 512\" width=\"24\" xmlns=\"http://www.w3.org/2000/svg\"><path d=\"M458.4 64.3C400.6 15.7 311.3 23 256 79.3 200.7 23 111.4 15.6 53.6 64.3-21.6 127.6-10.6 230.8 43 285.5l175.4 178.7c10 10.2 23.4 15.9 37.6 15.9 14.3 0 27.6-5.6 37.6-15.8L469 285.6c53.5-54.7 64.7-157.9-10.6-221.3zm-23.6 187.5L259.4 430.5c-2.4 2.4-4.4 2.4-6.8 0L77.2 251.8c-36.5-37.2-43.9-107.6 7.3-150.7 38.9-32.7 98.9-27.8 136.5 10.5l35 35.7 35-35.7c37.8-38.5 97.8-43.2 136.5-10.6 51.1 43.1 43.5 113.9 7.3 150.8z\" fill=\"currentColor\"></path></svg><svg aria-hidden=\"true\" class=\"svg-inline--fa fa-heart fa-w-16 fa-lg css-1t7epwv etbae430\" data-icon=\"heart\" data-prefix=\"fas\" focusable=\"false\" height=\"24\" hidden=\"\" role=\"img\" viewbox=\"0 0 512 512\" width=\"24\" xmlns=\"http://www.w3.org/2000/svg\"><path d=\"M462.3 62.6C407.5 15.9 326 24.3 275.7 76.2L256 96.5l-19.7-20.3C186.1 24.3 104.5 15.9 49.7 62.6c-62.8 53.6-66.1 149.8-9.9 207.9l193.5 199.8c12.5 12.9 32.8 12.9 45.3 0l193.5-199.8c56.3-58.1 53-154.3-9.8-207.9z\" fill=\"currentColor\"></path></svg></button></aside><article class=\"css-qqu0du es62z2j16\"><div class=\"css-jeloly es62z2j12\"><h3 class=\"css-1rhznz4 es62z2j11\" data-cy=\"listing-item-title\" title=\"Mieszkanie 2 pokoje+kuchnia, Siedlce/Śródmieście\">Mieszkanie 2 pokoje+kuchnia, Siedlce/Śródmieście</h3></div><p class=\"css-80g06k es62z2j10\" title=\"Mieszkanie na sprzedaż: Gdańsk, Siedlce\"><span class=\"css-17o293g es62z2j9\">Gdańsk, Siedlce</span></p><div class=\"css-itig98 eclomwz1\"><span class=\"css-rmqm02 eclomwz0\">550 000 zł</span><span class=\"css-rmqm02 eclomwz0\"><strong>12 131 zł/m²</strong></span><span class=\"css-rmqm02 eclomwz0\">2 pokoje</span><span class=\"css-rmqm02 eclomwz0\">45.34 m²</span></div><div class=\"css-1dozcio e1dxhs6v6\"><div class=\"css-jzkofj e1dxhs6v5\"><p class=\"css-elvi94 e1dxhs6v4\"><span class=\"css-13vzu28 e1dxhs6v2\">Oferta prywatna</span></p></div></div></article></a></li>\n"
     ]
    }
   ],
   "source": [
    "url = \"https://www.otodom.pl/pl/oferty/sprzedaz/mieszkanie/gdansk?market=SECONDARY\"\n",
    "\n",
    "list_element = wf.page_offer_list(url)[1]\n",
    "print(list_element)"
   ]
  },
  {
   "cell_type": "code",
   "execution_count": 43,
   "metadata": {},
   "outputs": [
    {
     "name": "stdout",
     "output_type": "stream",
     "text": [
      "True\n",
      "<class 'bs4.element.Tag'>\n",
      "Mieszkanie 2 pokoje+kuchnia, Siedlce/Śródmieście\n",
      "550 000 zł\n",
      "Gdańsk, Siedlce\n",
      "/pl/oferta/mieszkanie-2-pokoje-kuchnia-siedlce-srodmiescie-ID4fU4Q\n"
     ]
    }
   ],
   "source": [
    "\n",
    "from bs4 import Tag\n",
    "\n",
    "title = list_element.find(wf.TITLE.element, class_=wf.TITLE.class_).text\n",
    "\n",
    "price = list_element.find(wf.PRICE.element, class_=wf.PRICE.class_).text\n",
    "\n",
    "location = list_element.find(wf.LOCATION.element, class_= wf.LOCATION.class_).text\n",
    "\n",
    "#area = list_element.find('div', class_=\"css-itig98 eclomwz1\").text\n",
    "offer_link = list_element.find('a', href=True)['href'] \n",
    "\n",
    "#main_info = {\"Tytuł\": title, \"Lokalizacja\": location, \"Cena\": price}\n",
    "\n",
    "\n",
    "#lst = [title, location, price, area]\n",
    "#print(lst)\n",
    "#for i in lst:\n",
    "    #print(type(i))\n",
    "print(isinstance(list_element.find(wf.TITLE.element, class_=wf.TITLE.class_), Tag))\n",
    "print(type(list_element))\n",
    "print(title)\n",
    "print(price)\n",
    "print(location)\n",
    "print(offer_link)"
   ]
  },
  {
   "cell_type": "code",
   "execution_count": 51,
   "metadata": {},
   "outputs": [
    {
     "data": {
      "text/plain": [
       "<module 'webscrapper_errors' from 'c:\\\\Users\\\\budcr\\\\Desktop\\\\Housing Project\\\\Webscrapper\\\\webscrapper_errors.py'>"
      ]
     },
     "execution_count": 51,
     "metadata": {},
     "output_type": "execute_result"
    }
   ],
   "source": [
    "import webscrapper_errors as we\n",
    "importlib.reload(we)"
   ]
  },
  {
   "cell_type": "code",
   "execution_count": 52,
   "metadata": {},
   "outputs": [
    {
     "ename": "HtmlElementNotFoundError",
     "evalue": "The HTML description of PRICE has changed. Modyfication in css properties is required",
     "output_type": "error",
     "traceback": [
      "\u001b[1;31m---------------------------------------------------------------------------\u001b[0m",
      "\u001b[1;31mHtmlElementNotFoundError\u001b[0m                  Traceback (most recent call last)",
      "\u001b[1;32m~\\AppData\\Local\\Temp/ipykernel_16284/443677348.py\u001b[0m in \u001b[0;36m<module>\u001b[1;34m\u001b[0m\n\u001b[0;32m     18\u001b[0m     \u001b[1;32mreturn\u001b[0m \u001b[0mmain_info\u001b[0m\u001b[1;33m\u001b[0m\u001b[1;33m\u001b[0m\u001b[0m\n\u001b[0;32m     19\u001b[0m \u001b[1;33m\u001b[0m\u001b[0m\n\u001b[1;32m---> 20\u001b[1;33m \u001b[0mmain_info_error\u001b[0m \u001b[1;33m=\u001b[0m \u001b[0mmain_info\u001b[0m\u001b[1;33m(\u001b[0m\u001b[0mlist_element\u001b[0m\u001b[1;33m)\u001b[0m\u001b[1;33m\u001b[0m\u001b[1;33m\u001b[0m\u001b[0m\n\u001b[0m\u001b[0;32m     21\u001b[0m \u001b[0mprint\u001b[0m\u001b[1;33m(\u001b[0m\u001b[0mmain_info_error\u001b[0m\u001b[1;33m)\u001b[0m\u001b[1;33m\u001b[0m\u001b[1;33m\u001b[0m\u001b[0m\n",
      "\u001b[1;32m~\\AppData\\Local\\Temp/ipykernel_16284/443677348.py\u001b[0m in \u001b[0;36mmain_info\u001b[1;34m(list_element)\u001b[0m\n\u001b[0;32m      9\u001b[0m         \u001b[0mtitle\u001b[0m \u001b[1;33m=\u001b[0m \u001b[0mlist_element\u001b[0m\u001b[1;33m.\u001b[0m\u001b[0mfind\u001b[0m\u001b[1;33m(\u001b[0m\u001b[0mwf\u001b[0m\u001b[1;33m.\u001b[0m\u001b[0mTITLE\u001b[0m\u001b[1;33m.\u001b[0m\u001b[0melement\u001b[0m\u001b[1;33m,\u001b[0m \u001b[0mclass_\u001b[0m\u001b[1;33m=\u001b[0m\u001b[0mwf\u001b[0m\u001b[1;33m.\u001b[0m\u001b[0mTITLE\u001b[0m\u001b[1;33m.\u001b[0m\u001b[0mclass_\u001b[0m\u001b[1;33m)\u001b[0m\u001b[1;33m.\u001b[0m\u001b[0mtext\u001b[0m\u001b[1;33m\u001b[0m\u001b[1;33m\u001b[0m\u001b[0m\n\u001b[0;32m     10\u001b[0m     \u001b[1;32melse\u001b[0m\u001b[1;33m:\u001b[0m\u001b[1;33m\u001b[0m\u001b[1;33m\u001b[0m\u001b[0m\n\u001b[1;32m---> 11\u001b[1;33m         raise HtmlElementNotFoundError( \n\u001b[0m\u001b[0;32m     12\u001b[0m             \u001b[0mmessage\u001b[0m \u001b[1;33m=\u001b[0m \u001b[1;34mf\"The HTML description of PRICE has changed. Modyfication in css properties is required\"\u001b[0m\u001b[1;33m\u001b[0m\u001b[1;33m\u001b[0m\u001b[0m\n\u001b[0;32m     13\u001b[0m         )\n",
      "\u001b[1;31mHtmlElementNotFoundError\u001b[0m: The HTML description of PRICE has changed. Modyfication in css properties is required"
     ]
    }
   ],
   "source": [
    "from webscrapper_errors import HtmlElementNotFoundError\n",
    "\n",
    "\n",
    "def main_info(list_element: Tag) -> dict:\n",
    "    \"\"\"Function extracts main info from a list element \n",
    "    (that is a part of all listings on given page). Returning dict with title and price\"\"\"\n",
    "    \n",
    "    t = list_element.find(wf.TITLE.element, class_=\"dsdae345 2esdz\")\n",
    "    if isinstance(t, Tag):\n",
    "        title = t.text\n",
    "    else: \n",
    "        raise HtmlElementNotFoundError( \n",
    "            message = f\"The HTML description of PRICE has changed. Class modyfication in CSS properties is required.\"\n",
    "        )\n",
    "        \n",
    "        \n",
    "    price = list_element.find(wf.PRICE.element, class_=wf.PRICE.class_).text\n",
    "    main_info = {\"Tytuł\": title, \"Cena\": price}\n",
    "    return main_info\n",
    "\n",
    "main_info_error = main_info(list_element)\n",
    "print(main_info_error)"
   ]
  },
  {
   "cell_type": "code",
   "execution_count": 45,
   "metadata": {},
   "outputs": [
    {
     "name": "stdout",
     "output_type": "stream",
     "text": [
      "{'Tytuł': 'Mieszkanie 2 pokoje+kuchnia, Siedlce/Śródmieście', 'Cena': '550\\xa0000\\xa0zł'}\n",
      "{'Miasto': 'Gdańsk', 'Dzielnica': 'Siedlce', 'Ulica': 'NA'}\n",
      "{'Powierzchnia': '45,34 m²', 'Forma własności': 'pełna własność', 'Liczba pokoi': '2 ', 'Stan wykończenia': 'do zamieszkania', 'Piętro': '3/4', 'Balkon / ogród / taras': 'zapytaj', 'Czynsz': '500 zł', 'Miejsce parkingowe': 'zapytaj', 'Obsługa zdalna': 'zapytaj', 'Ogrzewanie': 'miejskie', 'Rynek': 'wtórny', 'Typ ogłoszeniodawcy': 'prywatny', 'Rok budowy': '1960', 'Rodzaj zabudowy': 'kamienica', 'Okna': 'plastikowe', 'Winda': 'nie', 'Media': 'telewizja kablowa, internet, telefon', 'Zabezpieczenia': 'drzwi / okna antywłamaniowe, domofon / wideofon', 'Wyposażenie': 'zmywarka, lodówka, meble, piekarnik, kuchenka, pralka', 'Informacje dodatkowe': 'piwnica, oddzielna kuchnia', 'Materiał budynku': 'cegła'}\n",
      "['ID4fU4Q', 'Mieszkanie 2 pokoje+kuchnia, Siedlce/Śródmieście', '550\\xa0000\\xa0zł', 'Gdańsk', 'Siedlce', 'NA', '45,34 m²', '2 ', '500 zł', '3/4', 'NA', 'zapytaj', 'zapytaj', 'nie', 'zmywarka, lodówka, meble, piekarnik, kuchenka, pralka', 'piwnica, oddzielna kuchnia', 'prywatny', 'wtórny', 'pełna własność']\n"
     ]
    }
   ],
   "source": [
    "# main info\n",
    "main_info = wf.main_info(list_element)\n",
    "location_info = wf.location_info(list_element)\n",
    "\n",
    "# offer link + id \n",
    "offer_url = wf.offer_url_generator(list_element)\n",
    "offer_id = wf.offer_id_generator(offer_url)\n",
    "\n",
    "# accessing offer data\n",
    "offer_soup = wf. offer_page_content(offer_url)\n",
    "\n",
    "detailed_info = wf.detailed_info(offer_soup)\n",
    "\n",
    "# all info\n",
    "all_info = wf.gather_offer_data(main_info, location_info, detailed_info, offer_id)\n",
    "\n",
    "print(main_info, location_info, detailed_info, sep=\"\\n\")\n",
    "print(all_info)"
   ]
  },
  {
   "cell_type": "code",
   "execution_count": 43,
   "metadata": {},
   "outputs": [
    {
     "name": "stdout",
     "output_type": "stream",
     "text": [
      "pierwotny\n",
      "False\n",
      "pierwotny\n"
     ]
    }
   ],
   "source": [
    "from enum import Enum\n",
    "\n",
    "class MarketType: \n",
    "    PRIMARY = \"pierwotny\"\n",
    "    SECONDARY = \"wtorny\"\n",
    "    \n",
    "print(MarketType.PRIMARY)\n",
    "print(isinstance(MarketType.PRIMARY, MarketType))\n",
    "\n",
    "def market(market: MarketType):\n",
    "    print(market)\n",
    "    \n",
    "market(MarketType.PRIMARY)"
   ]
  },
  {
   "cell_type": "code",
   "execution_count": 54,
   "metadata": {},
   "outputs": [
    {
     "name": "stdout",
     "output_type": "stream",
     "text": [
      "https://www.otodom.pl/pl/oferty/sprzedaz/mieszkanie/gdansk?market=PRIMARY&limit=72&page=2\n",
      "<class 'str'>\n"
     ]
    }
   ],
   "source": [
    "from dataclasses import dataclass\n",
    "\n",
    "@dataclass\n",
    "class SearchCriteria:\n",
    "    market_type: MarketType\n",
    "    city: str\n",
    "    limit: int\n",
    "    \n",
    "    def generate_url(self, page_number=1):\n",
    "        if self.market_type == \"wtorny\": mark = \"?market=SECONDARY\"\n",
    "        elif self.market_type == \"pierwotny\": mark = \"?market=PRIMARY\"\n",
    "        else: mark=\"\"\n",
    "        url = f\"https://www.otodom.pl/pl/oferty/sprzedaz/mieszkanie/{self.city}{mark}&limit={self.limit}&page={page_number}\"\n",
    "        return url\n",
    "    \n",
    "search = SearchCriteria(MarketType.PRIMARY, \"gdansk\", 72)\n",
    "url = search.generate_url(2)\n",
    "print(url)\n",
    "print(type(url))"
   ]
  },
  {
   "cell_type": "code",
   "execution_count": 58,
   "metadata": {},
   "outputs": [
    {
     "name": "stdout",
     "output_type": "stream",
     "text": [
      "['https://www.otodom.pl/pl/oferty/sprzedaz/mieszkanie/gdansk?market=PRIMARY&limit=72&page=1', 'https://www.otodom.pl/pl/oferty/sprzedaz/mieszkanie/gdansk?market=PRIMARY&limit=72&page=2', 'https://www.otodom.pl/pl/oferty/sprzedaz/mieszkanie/gdansk?market=PRIMARY&limit=72&page=3', 'https://www.otodom.pl/pl/oferty/sprzedaz/mieszkanie/gdansk?market=PRIMARY&limit=72&page=4', 'https://www.otodom.pl/pl/oferty/sprzedaz/mieszkanie/gdansk?market=PRIMARY&limit=72&page=5', 'https://www.otodom.pl/pl/oferty/sprzedaz/mieszkanie/gdansk?market=PRIMARY&limit=72&page=6', 'https://www.otodom.pl/pl/oferty/sprzedaz/mieszkanie/gdansk?market=PRIMARY&limit=72&page=7', 'https://www.otodom.pl/pl/oferty/sprzedaz/mieszkanie/gdansk?market=PRIMARY&limit=72&page=8', 'https://www.otodom.pl/pl/oferty/sprzedaz/mieszkanie/gdansk?market=PRIMARY&limit=72&page=9', 'https://www.otodom.pl/pl/oferty/sprzedaz/mieszkanie/gdansk?market=PRIMARY&limit=72&page=10']\n"
     ]
    }
   ],
   "source": [
    "def get_url_list(search_criteria: SearchCriteria, num_of_pages: int) -> list:\n",
    "    url_list = []\n",
    "    for i in list(range(1, num_of_pages + 1)):\n",
    "        url_list.append(search_criteria.generate_url(i))\n",
    "    return url_list\n",
    "        \n",
    "url_list = get_url_list(search, 10)\n",
    "print(url_list)"
   ]
  },
  {
   "cell_type": "code",
   "execution_count": 12,
   "metadata": {},
   "outputs": [
    {
     "name": "stdout",
     "output_type": "stream",
     "text": [
      "CssStyle(element='li', class_='css-p74l73 es62z2j17')\n",
      "li\n",
      "<class 'str'>\n"
     ]
    }
   ],
   "source": [
    "from dataclasses import dataclass\n",
    "\n",
    "@dataclass\n",
    "class CssStyle:\n",
    "    element: str\n",
    "    class_: str\n",
    "    \n",
    "listing = CssStyle(\"li\", \"css-p74l73 es62z2j17\")\n",
    "print(listing)\n",
    "print(listing.element) \n",
    "print(type(listing.element)) "
   ]
  }
 ],
 "metadata": {
  "interpreter": {
   "hash": "1a9bc99df0359bce16b0c609e604cee8ef3c1347b76e75c90e3c02ffd22e8200"
  },
  "kernelspec": {
   "display_name": "Python 3.10.0 64-bit",
   "language": "python",
   "name": "python3"
  },
  "language_info": {
   "codemirror_mode": {
    "name": "ipython",
    "version": 3
   },
   "file_extension": ".py",
   "mimetype": "text/x-python",
   "name": "python",
   "nbconvert_exporter": "python",
   "pygments_lexer": "ipython3",
   "version": "3.10.0"
  },
  "orig_nbformat": 4
 },
 "nbformat": 4,
 "nbformat_minor": 2
}
