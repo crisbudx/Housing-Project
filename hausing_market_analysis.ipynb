{
 "cells": [
  {
   "cell_type": "markdown",
   "metadata": {},
   "source": [
    "# **Hausing Market Analysis**\n",
    "Project overview: \n",
    "\n"
   ]
  },
  {
   "cell_type": "markdown",
   "metadata": {},
   "source": [
    "## **Importing modules**\n",
    "\n",
    "In the very first step of the process I'm importing the necessary modules for analysis and data aqusition.  "
   ]
  },
  {
   "cell_type": "code",
   "execution_count": 40,
   "metadata": {},
   "outputs": [],
   "source": [
    "# webscrapper \n",
    "import webscrapper_functions as wf\n",
    "from webscrapper_elements import SearchCriteria, MarketType, get_url_list\n",
    "from csv import writer\n",
    "\n",
    "# data analysis\n",
    "import pandas as pd \n",
    "import numpy as np\n",
    "\n",
    "# data vizualizations\n",
    "import plotly.express as px\n",
    "import matplotlib.pyplot as plt\n",
    "import seaborn as sns\n",
    "\n",
    "# machine learning\n",
    "from sklearn.model_selection import train_test_split\n",
    "from sklearn.linear_model import LinearRegression"
   ]
  },
  {
   "cell_type": "markdown",
   "metadata": {},
   "source": [
    "## **Data aquisition**\n",
    "\n",
    "I have designed dedicated webscrapper to collect housing data directly from otodom.pl website. <br />\n",
    "Programme has great amount of flexibility, allowing users to modify the search criteria <br />\n",
    "and the size of downloaded datasets. Individual offer data is saved as record in CSV file. <br />\n",
    "<br />\n",
    "**Important Note**: Please do not run this cell unless you want to download the data. All necessary files are already provided."
   ]
  },
  {
   "cell_type": "code",
   "execution_count": 80,
   "metadata": {},
   "outputs": [],
   "source": [
    "# Choosing file name\n",
    "file_name = \"TEST.csv\"\n",
    "\n",
    "with open(file_name, 'w', encoding='utf8', newline='') as f:\n",
    "    thewriter = writer(f)\n",
    "\n",
    "    header = [\"id\", \"title\", \"price\", \"city\", \"district\", \"street\", \n",
    "                      \"area\", \"rooms\", \"rent\", \"floor\", \"year\", \n",
    "                      \"balcony\", \"garage\", \"elevator\", \"furnishing\", \"extra_info\",\n",
    "                      \"seller_type\", \"market\", \"ownership\"]\n",
    "    thewriter.writerow(header)\n",
    "    \n",
    "    # Defining search criteria\n",
    "    search = SearchCriteria(\n",
    "        market_type = MarketType.SECONDARY, \n",
    "        city = \"gdansk\", \n",
    "        limit = 72\n",
    "    )\n",
    "    \n",
    "    # dataset size: (limit + 3) * num_of_pages\n",
    "    # here: (72 + 3) * 10 = 750\n",
    "    page_list = get_url_list(search, num_of_pages=10)\n",
    "    \n",
    "    for url in page_list:\n",
    "        listings = wf.page_offer_list(url)\n",
    "        for offer in listings:\n",
    "            # main + location info\n",
    "            main_info = wf.main_info(offer)\n",
    "            location_info = wf.location_info(offer)\n",
    "\n",
    "            # offer link + id \n",
    "            offer_url = wf.offer_url_generator(offer)\n",
    "            offer_id = wf.offer_id_generator(offer_url)\n",
    "\n",
    "            # accessing detailed offer data\n",
    "            offer_soup = wf. offer_page_content(offer_url)\n",
    "            detailed_info = wf.detailed_info(offer_soup)\n",
    "\n",
    "            # all info\n",
    "            all_info = wf.gather_offer_data(main_info, location_info, detailed_info, offer_id)\n",
    "\n",
    "            # add data to csv\n",
    "            thewriter.writerow(all_info)"
   ]
  },
  {
   "cell_type": "markdown",
   "metadata": {},
   "source": [
    "## **Importing data**\n",
    "\n",
    "In this step I'm converting CSV files into pandas dataframes. <br /> \n",
    "<br />\n",
    "Both datasets store filtered data from Gdańsk. <br />\n",
    "`primary` includes offers from primary market and `secondary` includes offers from secondary market  <br />\n",
    "<br />\n",
    "**Important Note**: Significant portion of the offers in `primary` didn't contain the information about price. <br />\n",
    "Since this is one of the most important parameters, I have decided to exclude these records. <br />\n",
    "<br />\n",
    "`alldata` combines `dprimary` and `dsecondary`"
   ]
  },
  {
   "cell_type": "code",
   "execution_count": 71,
   "metadata": {},
   "outputs": [
    {
     "name": "stdout",
     "output_type": "stream",
     "text": [
      "primary: 444\n",
      "secondary: 750\n",
      "alldata: 1194\n"
     ]
    }
   ],
   "source": [
    "primary = pd.read_csv(\"hdata_primary.csv\")\n",
    "primary = primary[primary.price != \"Zapytaj o cenę\"]\n",
    "\n",
    "secondary = pd.read_csv(\"hdata_secondarymarket.csv\")\n",
    "\n",
    "alldata = pd.concat([primary, secondary]).reset_index()\n",
    "\n",
    "# Checking the number of records in each dataset\n",
    "print(f\"primary: {len(primary)}\",\n",
    "      f\"secondary: {len(secondary)}\",\n",
    "      f\"alldata: {len(alldata)}\",\n",
    "      sep = \"\\n\")"
   ]
  },
  {
   "cell_type": "markdown",
   "metadata": {},
   "source": [
    "## **Exploratory data analysis**\n",
    "\n",
    "The main goal of EDA phase is to learn the structre of the data. Furthermore, thhis is also a great <br /> \n",
    "opportunity to discover any inconsistencies or missing valus across the dataset. <br /> \n",
    "<br /> \n",
    "\n",
    "At the beginning, I will investigate the first three rows of `alldata` dataset."
   ]
  },
  {
   "cell_type": "code",
   "execution_count": 85,
   "metadata": {},
   "outputs": [
    {
     "data": {
      "text/html": [
       "<div>\n",
       "<style scoped>\n",
       "    .dataframe tbody tr th:only-of-type {\n",
       "        vertical-align: middle;\n",
       "    }\n",
       "\n",
       "    .dataframe tbody tr th {\n",
       "        vertical-align: top;\n",
       "    }\n",
       "\n",
       "    .dataframe thead th {\n",
       "        text-align: right;\n",
       "    }\n",
       "</style>\n",
       "<table border=\"1\" class=\"dataframe\">\n",
       "  <thead>\n",
       "    <tr style=\"text-align: right;\">\n",
       "      <th></th>\n",
       "      <th>index</th>\n",
       "      <th>id</th>\n",
       "      <th>title</th>\n",
       "      <th>price</th>\n",
       "      <th>city</th>\n",
       "      <th>district</th>\n",
       "      <th>street</th>\n",
       "      <th>area</th>\n",
       "      <th>rooms</th>\n",
       "      <th>rent</th>\n",
       "      <th>floor</th>\n",
       "      <th>year</th>\n",
       "      <th>balcony</th>\n",
       "      <th>garage</th>\n",
       "      <th>elevator</th>\n",
       "      <th>furnishing</th>\n",
       "      <th>extra_info</th>\n",
       "      <th>seller_type</th>\n",
       "      <th>market</th>\n",
       "      <th>ownership</th>\n",
       "    </tr>\n",
       "  </thead>\n",
       "  <tbody>\n",
       "    <tr>\n",
       "      <th>0</th>\n",
       "      <td>0</td>\n",
       "      <td>ID4g5qm</td>\n",
       "      <td>Apartament 4 pokojowy, blisko morza</td>\n",
       "      <td>767 018 zł</td>\n",
       "      <td>Gdańsk</td>\n",
       "      <td>Letnica</td>\n",
       "      <td>NaN</td>\n",
       "      <td>75,22 m²</td>\n",
       "      <td>4.0</td>\n",
       "      <td>zapytaj</td>\n",
       "      <td>2/6</td>\n",
       "      <td>NaN</td>\n",
       "      <td>zapytaj</td>\n",
       "      <td>zapytaj</td>\n",
       "      <td>nie</td>\n",
       "      <td>NaN</td>\n",
       "      <td>NaN</td>\n",
       "      <td>biuro nieruchomości</td>\n",
       "      <td>pierwotny</td>\n",
       "      <td>zapytaj</td>\n",
       "    </tr>\n",
       "    <tr>\n",
       "      <th>1</th>\n",
       "      <td>1</td>\n",
       "      <td>ID4gh74</td>\n",
       "      <td>Gdańsk Osowa Seleny nowe wygodne mieszkanie</td>\n",
       "      <td>749 000 zł</td>\n",
       "      <td>Gdańsk</td>\n",
       "      <td>Osowa</td>\n",
       "      <td>ul. Seleny</td>\n",
       "      <td>122 m²</td>\n",
       "      <td>6.0</td>\n",
       "      <td>zapytaj</td>\n",
       "      <td>1/1</td>\n",
       "      <td>NaN</td>\n",
       "      <td>taras</td>\n",
       "      <td>garaż/miejsce parkingowe</td>\n",
       "      <td>nie</td>\n",
       "      <td>NaN</td>\n",
       "      <td>oddzielna kuchnia, dwupoziomowe</td>\n",
       "      <td>prywatny</td>\n",
       "      <td>pierwotny</td>\n",
       "      <td>zapytaj</td>\n",
       "    </tr>\n",
       "    <tr>\n",
       "      <th>2</th>\n",
       "      <td>3</td>\n",
       "      <td>ID4e9AW</td>\n",
       "      <td>5-pokojowe mieszkanie 91m2 + balkon Bezpośrednio</td>\n",
       "      <td>929 220 zł</td>\n",
       "      <td>Gdańsk</td>\n",
       "      <td>Ujeścisko-Łostowice</td>\n",
       "      <td>NaN</td>\n",
       "      <td>91,1 m²</td>\n",
       "      <td>5.0</td>\n",
       "      <td>zapytaj</td>\n",
       "      <td>2/4</td>\n",
       "      <td>NaN</td>\n",
       "      <td>balkon</td>\n",
       "      <td>garaż/miejsce parkingowe</td>\n",
       "      <td>NaN</td>\n",
       "      <td>NaN</td>\n",
       "      <td>NaN</td>\n",
       "      <td>NaN</td>\n",
       "      <td>NaN</td>\n",
       "      <td>pełna własność</td>\n",
       "    </tr>\n",
       "  </tbody>\n",
       "</table>\n",
       "</div>"
      ],
      "text/plain": [
       "   index       id                                             title  \\\n",
       "0      0  ID4g5qm               Apartament 4 pokojowy, blisko morza   \n",
       "1      1  ID4gh74       Gdańsk Osowa Seleny nowe wygodne mieszkanie   \n",
       "2      3  ID4e9AW  5-pokojowe mieszkanie 91m2 + balkon Bezpośrednio   \n",
       "\n",
       "        price    city             district      street      area rooms  \\\n",
       "0  767 018 zł  Gdańsk              Letnica         NaN  75,22 m²   4.0   \n",
       "1  749 000 zł  Gdańsk                Osowa  ul. Seleny    122 m²   6.0   \n",
       "2  929 220 zł  Gdańsk  Ujeścisko-Łostowice         NaN   91,1 m²   5.0   \n",
       "\n",
       "      rent floor  year  balcony                    garage elevator furnishing  \\\n",
       "0  zapytaj   2/6   NaN  zapytaj                   zapytaj      nie        NaN   \n",
       "1  zapytaj   1/1   NaN    taras  garaż/miejsce parkingowe      nie        NaN   \n",
       "2  zapytaj   2/4   NaN   balkon  garaż/miejsce parkingowe      NaN        NaN   \n",
       "\n",
       "                        extra_info           seller_type     market  \\\n",
       "0                              NaN  biuro nieruchomości   pierwotny   \n",
       "1  oddzielna kuchnia, dwupoziomowe              prywatny  pierwotny   \n",
       "2                              NaN                   NaN        NaN   \n",
       "\n",
       "        ownership  \n",
       "0         zapytaj  \n",
       "1         zapytaj  \n",
       "2  pełna własność  "
      ]
     },
     "execution_count": 85,
     "metadata": {},
     "output_type": "execute_result"
    }
   ],
   "source": [
    "alldata.head(3)"
   ]
  },
  {
   "cell_type": "markdown",
   "metadata": {},
   "source": [
    "#### **Checking column data types** \n",
    "\n",
    "As we can see above, our data is likely to have a few limitations. We can already notice that the price is probably <br />\n",
    "in a string format (currency is the part of the value). Moreover there are some missing in many columns. <br />\n",
    "<br />\n",
    "To ensure the data is consistent I'm going to check the data dypes and unique values <br />\n",
    "for each relevant column (I will exclude columns such as `title` or `id` since they are not going to be a part of analysis)"
   ]
  },
  {
   "cell_type": "code",
   "execution_count": 4,
   "metadata": {},
   "outputs": [
    {
     "data": {
      "text/plain": [
       "price           object\n",
       "city            object\n",
       "district        object\n",
       "street          object\n",
       "area            object\n",
       "rooms           object\n",
       "rent            object\n",
       "floor           object\n",
       "year           float64\n",
       "balcony         object\n",
       "garage          object\n",
       "elevator        object\n",
       "furnishing      object\n",
       "extra_info      object\n",
       "seller_type     object\n",
       "market          object\n",
       "ownership       object\n",
       "dtype: object"
      ]
     },
     "execution_count": 4,
     "metadata": {},
     "output_type": "execute_result"
    }
   ],
   "source": [
    "alldata.drop(labels = [\"index\", \"id\", \"title\"], axis = 1, inplace =  True)\n",
    "alldata.dtypes  "
   ]
  },
  {
   "cell_type": "markdown",
   "metadata": {},
   "source": [
    "#### **Exploring unique values**\n",
    "\n",
    "Colums that are supposed to have numerical values  (`price`, `area`, `rooms`, `year`) are not formated as floats or strings. <br />\n",
    "<br />\n",
    "In the next code cell I'm going to check uniqe values for each column. Iterating the loop is an efficent method to <br />\n",
    "quickly see all the values and catch errors "
   ]
  },
  {
   "cell_type": "code",
   "execution_count": 5,
   "metadata": {},
   "outputs": [
    {
     "name": "stdout",
     "output_type": "stream",
     "text": [
      "price ['767\\xa0018\\xa0zł' '749\\xa0000\\xa0zł' '929\\xa0220\\xa0zł'\n",
      " '669\\xa0000\\xa0zł' '825\\xa0428\\xa0zł' '750\\xa0088\\xa0zł'\n",
      " '450\\xa0000\\xa0zł' '923\\xa0247\\xa0zł' '1\\xa0028\\xa0761\\xa0zł'\n",
      " '649\\xa0000\\xa0zł' '822\\xa0769\\xa0zł' '399\\xa0122\\xa0zł'\n",
      " '509\\xa0037\\xa0zł' '398\\xa0197\\xa0zł' '503\\xa0671\\xa0zł'\n",
      " '1\\xa0290\\xa0000\\xa0zł' '564\\xa0002\\xa0zł' '483\\xa0075\\xa0zł'\n",
      " '542\\xa0024\\xa0zł' '342\\xa0500\\xa0zł' '477\\xa0486\\xa0zł'\n",
      " '903\\xa0000\\xa0zł' '790\\xa0763\\xa0zł' '335\\xa0000\\xa0zł'\n",
      " '348\\xa0000\\xa0zł' '724\\xa0869\\xa0zł' '497\\xa0670\\xa0zł'\n",
      " '1\\xa0208\\xa0000\\xa0zł' '580\\xa0000\\xa0zł' '1\\xa0590\\xa0000\\xa0zł'\n",
      " '360\\xa0000\\xa0zł' '486\\xa0500\\xa0zł' '526\\xa0000\\xa0zł'\n",
      " '618\\xa0576\\xa0zł' '315\\xa0651\\xa0zł' '285\\xa0000\\xa0zł'\n",
      " '363\\xa0286,15\\xa0zł' '535\\xa0000\\xa0zł' '820\\xa0875\\xa0zł'\n",
      " '513\\xa0000\\xa0zł' '756\\xa0242\\xa0zł' '349\\xa0000\\xa0zł'\n",
      " '564\\xa0544\\xa0zł' '430\\xa0000\\xa0zł' '560\\xa0000\\xa0zł'\n",
      " '316\\xa0500\\xa0zł' '696\\xa0000\\xa0zł' '508\\xa0322\\xa0zł'\n",
      " '861\\xa0702,41\\xa0zł' '482\\xa0630\\xa0zł' '1\\xa0047\\xa0595\\xa0zł'\n",
      " '428\\xa0310\\xa0zł' '1\\xa0444\\xa0705\\xa0zł' '355\\xa0000\\xa0zł'\n",
      " '545\\xa0924\\xa0zł' '1\\xa0188\\xa0772\\xa0zł' '662\\xa0000\\xa0zł'\n",
      " '705\\xa0020\\xa0zł' '662\\xa0282\\xa0zł' '641\\xa0582\\xa0zł'\n",
      " '649\\xa0768\\xa0zł' '609\\xa0000\\xa0zł' '266\\xa0685\\xa0zł'\n",
      " '380\\xa0500\\xa0zł' '514\\xa0000\\xa0zł' '392\\xa0961\\xa0zł'\n",
      " '517\\xa0000\\xa0zł' '293\\xa0000\\xa0zł' '339\\xa0500\\xa0zł'\n",
      " '429\\xa0200\\xa0zł' '336\\xa0500\\xa0zł' '1\\xa0664\\xa0906\\xa0zł'\n",
      " '341\\xa0500\\xa0zł' '440\\xa0001\\xa0zł' '1\\xa0939\\xa0285\\xa0zł'\n",
      " '600\\xa0041\\xa0zł' '708\\xa0768\\xa0zł' '319\\xa0500\\xa0zł'\n",
      " '503\\xa0000\\xa0zł' '1\\xa0055\\xa0754\\xa0zł' '602\\xa0000\\xa0zł'\n",
      " '467\\xa0174\\xa0zł' '800\\xa0000\\xa0zł' '525\\xa0399\\xa0zł'\n",
      " '401\\xa0673\\xa0zł' '569\\xa0000\\xa0zł' '1\\xa0007\\xa0000\\xa0zł'\n",
      " '539\\xa0000\\xa0zł' '437\\xa0350\\xa0zł' '309\\xa0900\\xa0zł'\n",
      " '330\\xa0065\\xa0zł' '456\\xa0630\\xa0zł' '1\\xa0323\\xa0000\\xa0zł'\n",
      " '367\\xa0865\\xa0zł' '681\\xa0877\\xa0zł' '356\\xa0006\\xa0zł'\n",
      " '579\\xa0000\\xa0zł' '432\\xa0928\\xa0zł' '332\\xa0789\\xa0zł'\n",
      " '451\\xa0657,50\\xa0zł' '673\\xa0246\\xa0zł' '554\\xa0560\\xa0zł'\n",
      " '403\\xa0000\\xa0zł' '354\\xa0000\\xa0zł' '467\\xa0433\\xa0zł'\n",
      " '348\\xa0500\\xa0zł' '435\\xa0662,50\\xa0zł' '536\\xa0000\\xa0zł'\n",
      " '362\\xa0000\\xa0zł' '737\\xa0000\\xa0zł' '1\\xa0064\\xa0144\\xa0zł'\n",
      " '882\\xa0964\\xa0zł' '379\\xa0000\\xa0zł' '1\\xa0319\\xa0000\\xa0zł'\n",
      " '1\\xa0349\\xa0000\\xa0zł' '2\\xa0350\\xa0000\\xa0zł' '682\\xa0084\\xa0zł'\n",
      " '299\\xa0000\\xa0zł' '395\\xa0000\\xa0zł' '318\\xa0000\\xa0zł'\n",
      " '366\\xa0000\\xa0zł' '375\\xa0000\\xa0zł' '326\\xa0945\\xa0zł'\n",
      " '343\\xa0480\\xa0zł' '383\\xa0595\\xa0zł' '484\\xa0820\\xa0zł'\n",
      " '478\\xa0100\\xa0zł' '837\\xa0800\\xa0zł' '772\\xa0128\\xa0zł'\n",
      " '334\\xa0000\\xa0zł' '324\\xa0400\\xa0zł' '249\\xa0200\\xa0zł'\n",
      " '2\\xa0541\\xa0109\\xa0zł' '1\\xa0286\\xa0085\\xa0zł' '1\\xa0023\\xa0918\\xa0zł'\n",
      " '1\\xa0309\\xa0531\\xa0zł' '1\\xa0372\\xa0277\\xa0zł' '415\\xa0680\\xa0zł'\n",
      " '520\\xa0000\\xa0zł' '579\\xa0773\\xa0zł' '499\\xa0000\\xa0zł'\n",
      " '787\\xa0362\\xa0zł' '1\\xa0459\\xa0518\\xa0zł' '1\\xa0317\\xa0175\\xa0zł'\n",
      " '526\\xa0850\\xa0zł' '241\\xa0258\\xa0zł' '715\\xa0000\\xa0zł'\n",
      " '683\\xa0520\\xa0zł' '584\\xa0947\\xa0zł' '346\\xa0560\\xa0zł'\n",
      " '561\\xa0577\\xa0zł' '658\\xa0700\\xa0zł' '577\\xa0350\\xa0zł'\n",
      " '403\\xa0141\\xa0zł' '618\\xa0554\\xa0zł' '529\\xa0000\\xa0zł'\n",
      " '419\\xa0200\\xa0zł' '329\\xa0400\\xa0zł' '793\\xa0500\\xa0zł'\n",
      " '405\\xa0000\\xa0zł' '372\\xa0000\\xa0zł' '383\\xa0000\\xa0zł'\n",
      " '435\\xa0000\\xa0zł' '1\\xa0302\\xa0885\\xa0zł' '1\\xa0338\\xa0600\\xa0zł'\n",
      " '480\\xa0216\\xa0zł' '352\\xa0682\\xa0zł' '419\\xa0368\\xa0zł'\n",
      " '523\\xa0779\\xa0zł' '507\\xa0535\\xa0zł' '353\\xa0000\\xa0zł'\n",
      " '514\\xa0100\\xa0zł' '447\\xa0160\\xa0zł' '347\\xa0000\\xa0zł'\n",
      " '287\\xa0500\\xa0zł' '425\\xa0730\\xa0zł' '463\\xa0000\\xa0zł'\n",
      " '516\\xa0750\\xa0zł' '330\\xa0500\\xa0zł' '814\\xa0091\\xa0zł'\n",
      " '389\\xa0267\\xa0zł' '353\\xa0665\\xa0zł' '338\\xa0100\\xa0zł'\n",
      " '401\\xa0000\\xa0zł' '977\\xa0235\\xa0zł' '853\\xa0005\\xa0zł'\n",
      " '994\\xa0455\\xa0zł' '817\\xa0335\\xa0zł' '485\\xa0000\\xa0zł'\n",
      " '354\\xa0637\\xa0zł' '1\\xa0273\\xa0497\\xa0zł' '1\\xa0686\\xa0508\\xa0zł'\n",
      " '787\\xa0385\\xa0zł' '425\\xa0000\\xa0zł' '265\\xa0499\\xa0zł'\n",
      " '336\\xa0876\\xa0zł' '703\\xa0652,60\\xa0zł' '516\\xa0823\\xa0zł'\n",
      " '603\\xa0976\\xa0zł' '492\\xa0200\\xa0zł' '345\\xa0384\\xa0zł'\n",
      " '826\\xa0512\\xa0zł' '1\\xa0033\\xa0208\\xa0zł' '495\\xa0000\\xa0zł'\n",
      " '899\\xa0000\\xa0zł' '935\\xa0000\\xa0zł' '925\\xa0115\\xa0zł'\n",
      " '724\\xa0015,50\\xa0zł' '487\\xa0398\\xa0zł' '310\\xa0275\\xa0zł'\n",
      " '694\\xa0002\\xa0zł' '485\\xa0376\\xa0zł' '329\\xa0999\\xa0zł'\n",
      " '516\\xa0256\\xa0zł' '373\\xa0000\\xa0zł' '562\\xa0156\\xa0zł'\n",
      " '341\\xa0550\\xa0zł' '430\\xa0560\\xa0zł' '387\\xa0000\\xa0zł'\n",
      " '495\\xa0752\\xa0zł' '699\\xa0140\\xa0zł' '412\\xa0555\\xa0zł'\n",
      " '410\\xa0870\\xa0zł' '344\\xa0397\\xa0zł' '1\\xa0180\\xa0991\\xa0zł'\n",
      " '865\\xa0476\\xa0zł' '740\\xa0375\\xa0zł' '1\\xa0118\\xa0977\\xa0zł'\n",
      " '794\\xa0970\\xa0zł' '406\\xa0431\\xa0zł' '556\\xa0238\\xa0zł'\n",
      " '1\\xa0116\\xa0469\\xa0zł' '373\\xa0320\\xa0zł' '445\\xa0060\\xa0zł'\n",
      " '579\\xa0500\\xa0zł' '619\\xa0999\\xa0zł' '503\\xa0500\\xa0zł'\n",
      " '3\\xa0026\\xa0661\\xa0zł' '497\\xa0650\\xa0zł' '587\\xa0000\\xa0zł'\n",
      " '404\\xa0000\\xa0zł' '404\\xa0500\\xa0zł' '850\\xa0000\\xa0zł'\n",
      " '1\\xa0200\\xa0650\\xa0zł' '323\\xa0000\\xa0zł' '500\\xa0001,80\\xa0zł'\n",
      " '265\\xa0000\\xa0zł' '484\\xa0817\\xa0zł' '447\\xa0154\\xa0zł'\n",
      " '332\\xa0940\\xa0zł' '755\\xa0823\\xa0zł' '592\\xa0283\\xa0zł'\n",
      " '739\\xa0972\\xa0zł' '766\\xa0719\\xa0zł' '799\\xa0761\\xa0zł'\n",
      " '919\\xa0052\\xa0zł' '676\\xa0004\\xa0zł' '562\\xa0839\\xa0zł'\n",
      " '655\\xa0000\\xa0zł' '575\\xa0000\\xa0zł' '449\\xa0500\\xa0zł'\n",
      " '819\\xa0734,19\\xa0zł' '331\\xa0500\\xa0zł' '356\\xa0000\\xa0zł'\n",
      " '776\\xa0025\\xa0zł' '835\\xa0825\\xa0zł' '775\\xa0910\\xa0zł'\n",
      " '777\\xa0635\\xa0zł' '840\\xa0195\\xa0zł' '588\\xa0000\\xa0zł'\n",
      " '351\\xa0135\\xa0zł' '777\\xa0405\\xa0zł' '374\\xa0532\\xa0zł'\n",
      " '543\\xa0403\\xa0zł' '338\\xa0000\\xa0zł' '406\\xa0208\\xa0zł'\n",
      " '418\\xa0091\\xa0zł' '378\\xa0651\\xa0zł' '478\\xa0590\\xa0zł'\n",
      " '471\\xa0500\\xa0zł' '414\\xa0554\\xa0zł' '308\\xa0413\\xa0zł'\n",
      " '499\\xa0999\\xa0zł' '425\\xa0731\\xa0zł' '336\\xa0222\\xa0zł'\n",
      " '277\\xa0371\\xa0zł' '341\\xa0259\\xa0zł' '1\\xa0460\\xa0150\\xa0zł'\n",
      " '392\\xa0367\\xa0zł' '311\\xa0000\\xa0zł' '917\\xa0683\\xa0zł'\n",
      " '656\\xa0496\\xa0zł' '1\\xa0092\\xa0550\\xa0zł' '703\\xa0988\\xa0zł'\n",
      " '478\\xa0600\\xa0zł' '326\\xa0900\\xa0zł' '1\\xa0480\\xa0000\\xa0zł'\n",
      " '1\\xa0488\\xa0000\\xa0zł' '1\\xa0498\\xa0000\\xa0zł' '551\\xa0204\\xa0zł'\n",
      " '367\\xa0000\\xa0zł' '340\\xa0000\\xa0zł' '360\\xa0308\\xa0zł'\n",
      " '344\\xa0500\\xa0zł' '447\\xa0702\\xa0zł' '1\\xa0036\\xa0945\\xa0zł'\n",
      " '500\\xa0156\\xa0zł' '515\\xa0558\\xa0zł' '310\\xa0242\\xa0zł'\n",
      " '463\\xa0804\\xa0zł' '419\\xa0058\\xa0zł' '329\\xa0086\\xa0zł'\n",
      " '360\\xa0836\\xa0zł' '366\\xa0500,03\\xa0zł' '524\\xa0622,50\\xa0zł'\n",
      " '345\\xa0295,50\\xa0zł' '362\\xa0319\\xa0zł' '446\\xa0057\\xa0zł'\n",
      " '264\\xa0319\\xa0zł' '341\\xa0672\\xa0zł' '602\\xa0177\\xa0zł'\n",
      " '822\\xa0965\\xa0zł' '516\\xa0236\\xa0zł' '524\\xa0815\\xa0zł'\n",
      " '584\\xa0911,58\\xa0zł' '362\\xa0407\\xa0zł' '475\\xa0000\\xa0zł'\n",
      " '320\\xa0000\\xa0zł' '497\\xa0500\\xa0zł' '532\\xa0032\\xa0zł'\n",
      " '574\\xa0894,04\\xa0zł' '531\\xa0639\\xa0zł' '785\\xa0000\\xa0zł'\n",
      " '337\\xa0000\\xa0zł' '441\\xa0500\\xa0zł' '464\\xa0000\\xa0zł'\n",
      " '2\\xa0557\\xa0682,34\\xa0zł' '2\\xa0690\\xa0150,67\\xa0zł'\n",
      " '3\\xa0991\\xa0370,14\\xa0zł' '583\\xa0652\\xa0zł' '1\\xa0330\\xa0280\\xa0zł'\n",
      " '1\\xa0284\\xa0580\\xa0zł' '1\\xa0295\\xa0140\\xa0zł' '1\\xa0363\\xa0120\\xa0zł'\n",
      " '311\\xa0502\\xa0zł' '625\\xa0000\\xa0zł' '754\\xa0127\\xa0zł'\n",
      " '656\\xa0976\\xa0zł' '685\\xa0200\\xa0zł' '594\\xa0128\\xa0zł'\n",
      " '830\\xa0000\\xa0zł' '1\\xa0122\\xa0786\\xa0zł' '760\\xa0000\\xa0zł'\n",
      " '1\\xa0382\\xa0986\\xa0zł' '670\\xa0500\\xa0zł' '517\\xa0707\\xa0zł'\n",
      " '497\\xa0000\\xa0zł' '597\\xa0000\\xa0zł' '859\\xa0000\\xa0zł'\n",
      " '815\\xa0000\\xa0zł' '919\\xa0000\\xa0zł' '615\\xa0000\\xa0zł'\n",
      " '503\\xa0867\\xa0zł' '546\\xa0922\\xa0zł' '595\\xa0000\\xa0zł'\n",
      " '1\\xa0056\\xa0000\\xa0zł' '725\\xa0000\\xa0zł' '310\\xa0000\\xa0zł'\n",
      " '738\\xa0000\\xa0zł' '1\\xa0120\\xa0000\\xa0zł' '765\\xa0000\\xa0zł'\n",
      " '448\\xa0000\\xa0zł' '509\\xa0000\\xa0zł' '570\\xa0000\\xa0zł'\n",
      " '590\\xa0000\\xa0zł' '1\\xa0087\\xa0881\\xa0zł' '385\\xa0000\\xa0zł'\n",
      " '449\\xa0000\\xa0zł' '286\\xa0000\\xa0zł' '1\\xa0335\\xa0000\\xa0zł'\n",
      " '778\\xa0000\\xa0zł' '346\\xa0000\\xa0zł' '399\\xa0000\\xa0zł'\n",
      " '439\\xa0000\\xa0zł' '619\\xa0000\\xa0zł' '1\\xa0490\\xa0000\\xa0zł'\n",
      " '350\\xa0000\\xa0zł' '419\\xa0000\\xa0zł' '659\\xa0000\\xa0zł'\n",
      " '549\\xa0000\\xa0zł' '459\\xa0000\\xa0zł' '489\\xa0000\\xa0zł'\n",
      " '1\\xa0150\\xa0000\\xa0zł' '3\\xa0456\\xa0950\\xa0zł' '1\\xa0119\\xa0000\\xa0zł'\n",
      " '849\\xa0000\\xa0zł' '950\\xa0000\\xa0zł' '709\\xa0000\\xa0zł'\n",
      " '999\\xa0000\\xa0zł' '895\\xa0000\\xa0zł' '980\\xa0000\\xa0zł'\n",
      " '739\\xa0000\\xa0zł' '875\\xa0000\\xa0zł' '940\\xa0000\\xa0zł'\n",
      " '1\\xa0327\\xa0000\\xa0zł' '870\\xa0000\\xa0zł' '1\\xa0100\\xa0000\\xa0zł'\n",
      " '1\\xa0300\\xa0000\\xa0zł' '477\\xa0000\\xa0zł' '365\\xa0000\\xa0zł'\n",
      " '540\\xa0000\\xa0zł' '470\\xa0000\\xa0zł' '637\\xa0000\\xa0zł'\n",
      " '790\\xa0000\\xa0zł' '650\\xa0000\\xa0zł' '4\\xa0400\\xa0000\\xa0zł'\n",
      " '1\\xa0400\\xa0000\\xa0zł' '1\\xa0299\\xa0000\\xa0zł' '519\\xa0000\\xa0zł'\n",
      " '549\\xa0900\\xa0zł' '762\\xa0000\\xa0zł' '589\\xa0000\\xa0zł'\n",
      " '1\\xa0790\\xa0000\\xa0zł' '620\\xa0000\\xa0zł' '699\\xa0000\\xa0zł'\n",
      " '828\\xa0000\\xa0zł' '418\\xa0000\\xa0zł' '619\\xa0900\\xa0zł'\n",
      " '638\\xa0000\\xa0zł' '550\\xa0000\\xa0zł' '434\\xa0000\\xa0zł'\n",
      " '525\\xa0000\\xa0zł' '799\\xa0000\\xa0zł' '1\\xa0250\\xa0000\\xa0zł'\n",
      " '658\\xa0000\\xa0zł' '1\\xa0299\\xa0900\\xa0zł' '795\\xa0000\\xa0zł'\n",
      " '750\\xa0000\\xa0zł' '599\\xa0000\\xa0zł' '699\\xa0999\\xa0zł'\n",
      " '799\\xa0999\\xa0zł' '700\\xa0000\\xa0zł' '1\\xa0117\\xa0000\\xa0zł'\n",
      " '433\\xa0000\\xa0zł' '1\\xa0195\\xa0000\\xa0zł' '769\\xa0000\\xa0zł'\n",
      " '274\\xa0000\\xa0zł' '556\\xa0944,30\\xa0zł' '639\\xa0000\\xa0zł'\n",
      " '770\\xa0000\\xa0zł' '990\\xa0000\\xa0zł' '410\\xa0000\\xa0zł'\n",
      " '368\\xa0000\\xa0zł' '1\\xa0049\\xa0000\\xa0zł' '710\\xa0000\\xa0zł'\n",
      " '849\\xa0900\\xa0zł' '720\\xa0000\\xa0zł' '369\\xa0000\\xa0zł'\n",
      " '359\\xa0900\\xa0zł' '1\\xa0399\\xa0000\\xa0zł' '740\\xa0000\\xa0zł'\n",
      " '998\\xa0000\\xa0zł' '496\\xa0440\\xa0zł' '567\\xa0000\\xa0zł'\n",
      " '900\\xa0000\\xa0zł' '479\\xa0000\\xa0zł' '1\\xa0055\\xa0000\\xa0zł'\n",
      " '1\\xa0090\\xa0000\\xa0zł' '1\\xa0550\\xa0000\\xa0zł' '949\\xa0000\\xa0zł'\n",
      " '505\\xa0000\\xa0zł' '2\\xa0590\\xa0000\\xa0zł' '819\\xa0000\\xa0zł'\n",
      " '839\\xa0000\\xa0zł' '729\\xa0000\\xa0zł' '660\\xa0000\\xa0zł'\n",
      " '345\\xa0000\\xa0zł' '679\\xa0000\\xa0zł' '1\\xa0399\\xa0900\\xa0zł'\n",
      " '629\\xa0000\\xa0zł' '695\\xa0000\\xa0zł' '685\\xa0000\\xa0zł'\n",
      " '759\\xa0000\\xa0zł' '380\\xa0000\\xa0zł' '647\\xa0000\\xa0zł'\n",
      " '608\\xa0000\\xa0zł' '890\\xa0000\\xa0zł' '429\\xa0000\\xa0zł'\n",
      " '635\\xa0000\\xa0zł' '510\\xa0000\\xa0zł' '837\\xa0000\\xa0zł'\n",
      " '496\\xa0000\\xa0zł' '530\\xa0000\\xa0zł' '789\\xa0000\\xa0zł'\n",
      " '999\\xa0999\\xa0zł' '3\\xa0695\\xa0000\\xa0zł' '630\\xa0000\\xa0zł'\n",
      " '434\\xa0990\\xa0zł' '445\\xa0000\\xa0zł' '469\\xa0000\\xa0zł'\n",
      " '389\\xa0000\\xa0zł' '1\\xa0570\\xa0000\\xa0zł' '386\\xa0000\\xa0zł'\n",
      " '559\\xa0000\\xa0zł' '611\\xa0250\\xa0zł' '1\\xa0140\\xa0000\\xa0zł'\n",
      " '689\\xa0000\\xa0zł' '880\\xa0000\\xa0zł' '1\\xa0021\\xa0053\\xa0zł'\n",
      " '946\\xa0923\\xa0zł' '628\\xa0000\\xa0zł' '420\\xa0000\\xa0zł'\n",
      " '690\\xa0000\\xa0zł' '848\\xa0800\\xa0zł' '2\\xa0300\\xa0000\\xa0zł'\n",
      " '930\\xa0000\\xa0zł' '1\\xa0125\\xa0000\\xa0zł' '779\\xa0000\\xa0zł'\n",
      " '455\\xa0000\\xa0zł' '1\\xa0180\\xa0000\\xa0zł' '2\\xa0400\\xa0000\\xa0zł'\n",
      " '1\\xa0347\\xa0415\\xa0zł' '584\\xa0000\\xa0zł' '460\\xa0000\\xa0zł'\n",
      " '2\\xa0850\\xa0000\\xa0zł' '2\\xa0700\\xa0000\\xa0zł' '2\\xa0550\\xa0000\\xa0zł'\n",
      " '684\\xa0000\\xa0zł' '840\\xa0000\\xa0zł' '1\\xa0780\\xa0000\\xa0zł'\n",
      " '1\\xa0600\\xa0000\\xa0zł' '1\\xa0475\\xa0000\\xa0zł' '1\\xa0369\\xa0000\\xa0zł'\n",
      " '1\\xa0320\\xa0000\\xa0zł' '1\\xa0200\\xa0626\\xa0zł' '1\\xa0129\\xa0000\\xa0zł'\n",
      " '1\\xa0060\\xa0000\\xa0zł' '533\\xa0000\\xa0zł' '959\\xa0000\\xa0zł'\n",
      " '745\\xa0000\\xa0zł' '1\\xa0310\\xa0000\\xa0zł' '988\\xa0000\\xa0zł'\n",
      " '465\\xa0000\\xa0zł' '675\\xa0000\\xa0zł' '885\\xa0000\\xa0zł'\n",
      " '825\\xa0000\\xa0zł' '585\\xa0000\\xa0zł' '731\\xa0000\\xa0zł'\n",
      " '1\\xa0199\\xa0000\\xa0zł' '780\\xa0000\\xa0zł' '277\\xa0777\\xa0zł'\n",
      " '326\\xa0940\\xa0zł' '1\\xa0075\\xa0609,75\\xa0zł' '648\\xa0900\\xa0zł'\n",
      " '1\\xa0500\\xa0000\\xa0zł' '1\\xa0540\\xa0000\\xa0zł' '873\\xa0000\\xa0zł'\n",
      " '524\\xa0900\\xa0zł' '2\\xa0999\\xa0000\\xa0zł' '845\\xa0000\\xa0zł'\n",
      " '657\\xa0000\\xa0zł' '565\\xa0000\\xa0zł' '490\\xa0000\\xa0zł'\n",
      " '1\\xa0370\\xa0000\\xa0zł' '775\\xa0000\\xa0zł' '440\\xa0000\\xa0zł'\n",
      " '339\\xa0000\\xa0zł' '618\\xa0000\\xa0zł' '1\\xa0880\\xa0000\\xa0zł'\n",
      " '535\\xa0731\\xa0zł' '739\\xa0500\\xa0zł' '289\\xa0000\\xa0zł'\n",
      " '547\\xa0000\\xa0zł' '869\\xa0000\\xa0zł' '889\\xa0000\\xa0zł'\n",
      " '965\\xa0000\\xa0zł' '1\\xa0197\\xa0000\\xa0zł' '699\\xa0990\\xa0zł'\n",
      " '515\\xa0000\\xa0zł' '2\\xa0758\\xa0000\\xa0zł' '1\\xa0670\\xa0000\\xa0zł'\n",
      " '2\\xa0200\\xa0000\\xa0zł' '1\\xa0420\\xa0000\\xa0zł' '10\\xa0900\\xa0000\\xa0zł'\n",
      " '995\\xa0000\\xa0zł' '640\\xa0000\\xa0zł' '499\\xa0900\\xa0zł'\n",
      " '2\\xa0150\\xa0000\\xa0zł' '680\\xa0000\\xa0zł' '1\\xa0345\\xa0000\\xa0zł'\n",
      " '2\\xa0149\\xa0000\\xa0zł' '599\\xa0900\\xa0zł' '839\\xa0040\\xa0zł'\n",
      " '454\\xa0720\\xa0zł' '2\\xa0040\\xa0000\\xa0zł' '1\\xa0249\\xa0000\\xa0zł'\n",
      " '605\\xa0000\\xa0zł' '484\\xa0900\\xa0zł' '624\\xa0000\\xa0zł'\n",
      " '357\\xa0000\\xa0zł' '749\\xa0500\\xa0zł' '1\\xa0470\\xa0000\\xa0zł'\n",
      " '319\\xa0000\\xa0zł' '325\\xa0000\\xa0zł' '676\\xa0000\\xa0zł'\n",
      " '644\\xa0000\\xa0zł' '599\\xa0800\\xa0zł' '554\\xa0000\\xa0zł'\n",
      " '1\\xa0030\\xa0000\\xa0zł' '909\\xa0000\\xa0zł' '319\\xa0800\\xa0zł'\n",
      " '1\\xa0010\\xa0000\\xa0zł' '1\\xa0449\\xa0000\\xa0zł' '1\\xa0050\\xa0000\\xa0zł'\n",
      " '1\\xa0079\\xa0000\\xa0zł' '1\\xa0200\\xa0625\\xa0zł' '692\\xa0000\\xa0zł'\n",
      " '370\\xa0000\\xa0zł' '862\\xa0000\\xa0zł' '670\\xa0000\\xa0zł'\n",
      " '798\\xa0000\\xa0zł' '724\\xa0000\\xa0zł' '555\\xa0000\\xa0zł'\n",
      " '1\\xa0190\\xa0000\\xa0zł' '758\\xa0500\\xa0zł' '1\\xa0560\\xa0000\\xa0zł'\n",
      " '371\\xa0110\\xa0zł' '465\\xa0500\\xa0zł' '4\\xa0300\\xa0000\\xa0zł'\n",
      " '532\\xa0000\\xa0zł' '473\\xa0000\\xa0zł' '390\\xa0000\\xa0zł'\n",
      " '648\\xa0000\\xa0zł']\n",
      "\n",
      "\n",
      "city ['Gdańsk' 'HORIZON' 'płk. Kazimierza Leskiego' 'ul. Angielska Grobla'\n",
      " 'Edwarda Stachury' 'ul. Pastelowa' 'Tysiąclecia'\n",
      " 'ul. Władysława Jagiełły 2']\n",
      "\n",
      "\n",
      "district ['Letnica' 'Osowa' 'Ujeścisko-Łostowice' 'Kokoszki' 'Siedlce' 'pomorskie'\n",
      " 'Jasień' 'Wrzeszcz' 'Chełm' 'Młyniska' 'Brętowo' 'Oliwa' 'Przymorze'\n",
      " 'Gdańsk' 'Wyspa Sobieszewska' 'Śródmieście'\n",
      " 'Orunia Górna-Gdańsk Południe' 'Brzeźno' 'Stogi' 'Kowale'\n",
      " 'Orunia-Św. Wojciech-Lipce' 'Piecki-Migowo' 'Jelitkowo' 'Nowy Port'\n",
      " 'Żabianka' 'Karczemki' 'Zaspa' 'Aniołki' 'Krakowiec-Górki Zachodnie'\n",
      " 'Suchanino' 'Przeróbka' 'osiedle RIVERVIEW' 'Kiełpinek' 'Matarnia'\n",
      " 'Nowe Ujeścisko' 'Kiełpino Górne']\n",
      "\n",
      "\n",
      "street [nan 'ul. Seleny' 'ul. Konrada Guderskiego' 'ul. Diany' 'ul. Warszawska'\n",
      " 'Łostowice' 'ul. Kartuska 420B' 'Matemblewo' 'Jasińskiego'\n",
      " 'ul. Starowiejska' 'Jana Bażyńskiego' 'Dąbrowszczaków' 'ul. Leszczynowa'\n",
      " 'pomorskie' 'ul. Kempingowa' 'Maćkowy' 'ul. Feliksa Muzyka' 'SCALA'\n",
      " 'ul. Niepołomicka' 'Starogardzka' 'POTĘGOWSKA' 'ul. Tęczowa'\n",
      " 'Artura Grottgera' 'ul. Stara Stocznia' 'Główne Miasto'\n",
      " 'ul. Lawendowe Wzgórze' 'ul. Starogardzka' 'Orunia' 'ul. Pastelowa'\n",
      " 'Wałowa' 'ul. Wałowa' 'ul. Magellana' 'Zakoniczyn'\n",
      " 'ul. Mariana Kołodzieja' 'ul. Potokowa' 'ul. Letnicka' 'Potęgowska'\n",
      " 'Starowiejska' 'Konrada Guderskiego' 'Ujeścisko' 'Morena' 'Sobieszewo'\n",
      " 'Wypoczynkowa' 'ul. Czerska' 'ul. Władysława Jagiełły' 'Łąkowa'\n",
      " 'gen. Józefa Hallera' 'Stokłosy' 'Niska 17' 'Czerska'\n",
      " 'Kazimierza Wielkiego' 'Niepołomicka' 'Powstańców Warszawskich'\n",
      " 'ul. Stolema' 'Stolema' 'Jacka Malczewskiego' 'Stężycka' 'Bursztynowa'\n",
      " 'Chmielna' 'Kartuska' 'Jabłoniowa' 'Nadmorski Dwór' 'Letnicka'\n",
      " 'ul. Marynarki Polskiej' 'ul. Manifestu Połanieckiego' 'Chłopska'\n",
      " 'Śląska' 'Olsztyńska' 'Wyzwolenia' 'Lawendowe Wzgórze' 'Stare Miasto'\n",
      " 'ul. Subisława' 'ul. Opolska' 'Karczemki Kiełpińskie' 'Toruńska'\n",
      " 'Stara Stocznia' 'ul. Stanisława Skarżyńskiego' 'ul. Morenowe Wzgórze'\n",
      " 'ul. Nieborowska' 'ul. Stefana Drzewieckiego 8' 'ul. Wincentego Witosa'\n",
      " 'Stanisława Wyspiańskiego' 'Jagiellońska' 'Mariacka'\n",
      " 'Ludwika Waryńskiego' 'ul. Grudziądzka' 'ul. Rycerza Blizbora 24'\n",
      " 'ul. Juliusza Słowackiego' 'Pilotów' 'Sambora' 'Racławicka'\n",
      " 'Mikołaja Kopernika' 'Orłowska' 'ul. Jana Pestalozziego' 'ul. Sucha'\n",
      " 'ul. Długa' 'ul. Jana z Kolna' 'Szyprów' 'Damroki' 'ul. Tatrzańska'\n",
      " 'ul. Bursztynowa' 'Strzyża' 'Kaprów' 'Zygmunta Rumla'\n",
      " 'ul. Kołobrzeska 58' 'ul. Szczecińska 33' 'Szafarnia'\n",
      " 'ul. Zbyszka z Bogdańca' 'ul. Jabłoniowa' 'ul. Jabłoniowa 19'\n",
      " 'Olsztyńska 3C' 'Uranowa 2' 'Joachima Lelewela' 'ul. Stary Rynek Oliwski'\n",
      " 'marsz. Ferdynanda Focha' 'Jana Kochanowskiego' 'Krakowiec'\n",
      " 'ul. Lecha Bądkowskiego' 'ul. Krzysztofa Komedy' 'Karpacka'\n",
      " 'ul. Bernarda Chrzanowskiego' 'św. Barbary' 'Twarda' 'Obrońców Wybrzeża'\n",
      " 'kartuska 124' 'Adama Mickiewicza' 'ul. Tysiąclecia 27' 'ul. Olimpijska'\n",
      " 'ul. Kołobrzeska' 'ul. Jana Kochanowskiego' 'Dworska' 'Dobra'\n",
      " 'ul. Brzozowa 9c' 'Dąbrówki' 'Joachima Pastoriusza'\n",
      " 'ul. Obrońców Wybrzeża' 'Żwirki i Wigury' 'ul. Sadowa' 'ul. św. Barbary'\n",
      " 'ul. Adama Mickiewicza' 'Leszczynowa' 'ul. Piastowska' 'Sołecka 5'\n",
      " 'Edwarda Stachury' 'ul. Stanisława Lema 12' 'al. Jana Pawła II'\n",
      " 'Wajdeloty' 'Leśny Stok' 'Rzeczypospolitej' 'Grunwaldzka' 'Pilotów 10'\n",
      " 'ul. Chłopska' 'ul. Tadeusza Kościuszki' 'Sucha' 'Bitwy Oliwskiej'\n",
      " 'ul. Franciszka Bohomolca' 'ul. Dywizjonu 303' 'Jaglana'\n",
      " 'al. gen. Józefa Hallera' 'Na Zaspę' 'Czerwony Dwór' 'ul. Śląska'\n",
      " 'Wilhelma Stryjewskiego' 'ul. Konrada Leczkowa' 'ul. Olsztyńska'\n",
      " 'ul. Gospody' 'Gdańsk' 'al. Rzeczypospolitej 4'\n",
      " 'Prezydenta Lecha Kaczyńskiego' 'Bernarda Chrzanowskiego' 'Piastowska'\n",
      " 'ul. Królowej Jadwigi' 'prof. Józefa Więckowskiego' 'ul. Kartuska'\n",
      " 'Subisława' 'Bolesława Chrobrego' 'Aleksandry Gabrysiak' 'Matki Polki'\n",
      " 'Legionów' 'Przyokopowa' 'Przetoczna' 'Zielony Stok' 'Dywizjonu 303'\n",
      " 'Tadeusza Jasińskiego' 'ul. Dworska' 'Józefa Hoene-Wrońskiego'\n",
      " 'ul. Wierzbowa' 'Łozy' 'Partyzantów' 'ul. Zeusa' 'ul. Nadmorski Dwór'\n",
      " 'Bolesława Krzywoustego' 'Szopy' 'Lęborska' 'ul. Pomorska 14' 'Malborska'\n",
      " 'Kołobrzeska' 'Piwna' 'Jesionowa' 'Ogarna' 'Nowatorów'\n",
      " 'Tadeusza Kościuszki' 'ul. Józefa Wassowskiego' 'Piecewska'\n",
      " 'ul. Partyzantów' 'ul. Jana Kilińskiego' 'Tatrzańska' 'Jaśkowa Dolina'\n",
      " 'Panieńska' 'Sienna Grobla' 'Juliusza Słowackiego' 'Świętkrzyska Park'\n",
      " 'Pomorska' 'Krzysztofa Komedy' 'ul. Władysława Broniewskiego'\n",
      " 'ul. Pilotów' 'ul. Zaroślak' 'Antoniego Suchanka' 'ul. Jana Matejki'\n",
      " 'ul. Adama Asnyka' 'Zeusa 43' 'ul.Guderskiego' 'Długie Ogrody'\n",
      " 'Konstantego Ciołkowskiego' 'ul. Szmaragdowa' 'Gdyńskich Kosynierów'\n",
      " 'Jana Ostroroga' 'ŚWIĘTEJ BARBARY 11' 'Kazimierza Leskiego'\n",
      " 'ul. Trakt św. Wojciecha' 'ul. Ignacego Paderewskiego' 'ul. Czarny Dwór'\n",
      " 'Jana Pawła II' 'al. Grunwaldzka' 'Biskupia' 'Heliosa' 'Słowiańska'\n",
      " 'ul. Dolne Migowo' 'Różany Stok' 'Dolne Miasto' 'Rycerza Blizbora'\n",
      " 'ul. Stężycka' 'Obrońców Westerplatte' 'Zbyszka z Bogdańca'\n",
      " 'Pawła Adamowicza' 'ul. św. Ducha' 'Oliwska' 'ul. Jana Solikowskiego'\n",
      " 'Sochaczewska' 'Niedźwiednik' 'ul. Aleksandry Gabrysiak 50' 'Grudziądzka'\n",
      " 'Taneczna' 'Wiszące Ogrody' 'ul. Bliźniąt' 'ul. Bolesława Chrobrego'\n",
      " 'Otwarta' 'ul. Lęborska' 'ul. Edwarda Stachury' 'ul. Kombatantów'\n",
      " 'Brygidki' 'Witosa' 'ul. Biała' 'ul. Jodłowa' 'ul. Przemyska'\n",
      " 'Chmielna 73' 'al. Rzeczypospolitej' 'Cedrowa' 'Sebastiana Klonowicza'\n",
      " 'ul. Królewskie Wzgórze' 'ul. Jana Heweliusza' 'ul. Marsa'\n",
      " 'ul. Franciszka Hynka' 'KOŁOBRZESKA' 'Marcina Dragana'\n",
      " 'ul. Józefa Chełmońskiego' 'Franciszka Hynka'\n",
      " 'ul. Krzysztofa Kamila Baczyńskiego' 'Strajku Dokerów' 'Jelitkowska'\n",
      " 'Orfeusza' 'Antoniego Lendziona' 'Krzysztofa Kamila Baczyńskiego'\n",
      " 'Powstańców Wielkopolskich' 'ul. Rybaki Górne' 'ul. Kolorowa'\n",
      " 'Kolonia Zręby' 'Kaczyńskiego Lecha' 'Jana Husa' 'ul. Szara'\n",
      " 'ul. Sympatyczna' 'ul. Jagiellońska' 'Wolności' 'Wita Stwosza'\n",
      " 'ul. Łagiewniki' 'Bystrzycka' 'Dworkowa' 'Podchorążych'\n",
      " 'gen. Józefa Fiszera' 'Dywizji Wołyńskiej' 'Maurycego Beniowskiego'\n",
      " 'ul. Damroki' 'Bliska' 'Straganiarska' 'ul. Toruńska' 'ul. Kowalska'\n",
      " 'Fiszera' 'Lecha Bądkowskiego' 'Zakopiańska' 'Starówka' 'Krynicka'\n",
      " 'Nieborowska' 'ul. Wilhelma Stryjewskiego' 'Zimna'\n",
      " 'Kazimierza Porębskiego' 'ul. Zofii Nałkowskiej' 'ul. Wielkopolska 66'\n",
      " 'ul. Gdyńskich Kosynierów' 'Bulońska' 'ul. Dąbrówki' 'ul. Łąkowa 60 b'\n",
      " 'ul. Pilotów 8' 'Andrzeja Modrzewskiego' 'Andrzeja Struga' 'Rogalińska'\n",
      " 'Uranowa' 'Karlikowska' 'Ignacego Matuszewskiego' 'Jakuba Wejhera'\n",
      " 'Ignacego Paderewskiego' 'prof. Romualda Cebertowicza' 'ul. Zakopiańska'\n",
      " 'ul. Potęgowska 6' 'Przytulna' 'Gospody' 'Chwaszczyńska'\n",
      " 'Stanisława Skarżyńskiego' 'Antygony' 'Fundamentowa' 'Szara']\n",
      "\n",
      "\n",
      "area ['75,22 m²' '122 m²' '91,1 m²' '89,72 m²' '74,93 m²' '72,81 m²' '89,7 m²'\n",
      " '52,95 m²' '52,88 m²' '75,21 m²' '91,69 m²' '88,67 m²' '72,67 m²'\n",
      " '29,87 m²' '32,96 m²' '30,03 m²' '62,46 m²' '73,54 m²' '49,37 m²'\n",
      " '50,85 m²' '36,79 m²' '36,66 m²' '30,9 m²' '52,25 m²' '74,25 m²'\n",
      " '35,99 m²' '34,7 m²' '53,24 m²' '61,58 m²' '69,76 m²' '60,64 m²'\n",
      " '91,05 m²' '40,15 m²' '59,97 m²' '57,32 m²' '73,64 m²' '32,71 m²'\n",
      " '29,29 m²' '41,99 m²' '60,69 m²' '60,79 m²' '54,6 m²' '39,57 m²'\n",
      " '45,25 m²' '47,84 m²' '51,6 m²' '48,62 m²' '109,48 m²' '56,78 m²'\n",
      " '81,2 m²' '47,59 m²' '101,39 m²' '60,73 m²' '96,2 m²' '37,31 m²'\n",
      " '50,6 m²' '73,83 m²' '49,4 m²' '60,02 m²' '28,27 m²' '35,98 m²'\n",
      " '57,93 m²' '45,22 m²' '30,76 m²' '41 m²' '55 m²' '34,49 m²' '87,69 m²'\n",
      " '37,15 m²' '29 m²' '108,18 m²' '71,23 m²' '34,75 m²' '82,6 m²' '60,6 m²'\n",
      " '50,56 m²' '60,99 m²' '65,1 m²' '46,49 m²' '46,99 m²' '71,94 m²'\n",
      " '60,76 m²' '39,35 m²' '33,7 m²' '57,8 m²' '54 m²' '42,5 m²' '79,92 m²'\n",
      " '35,83 m²' '60,58 m²' '47,16 m²' '34,71 m²' '61,45 m²' '70,34 m²' '51 m²'\n",
      " '43 m²' '55,98 m²' '37,4 m²' '49,79 m²' '36,87 m²' '57,29 m²' '42,43 m²'\n",
      " '39,29 m²' '90,02 m²' '47,1 m²' '71,8 m²' '65,24 m²' '28 m²' '37,5 m²'\n",
      " '42,93 m²' '40,24 m²' '40,17 m²' '33,75 m²' '35,97 m²' '35,8 m²'\n",
      " '43,95 m²' '58 m²' '60 m²' '59 m²' '53,62 m²' '40 m²' '37 m²' '30 m²'\n",
      " '126,91 m²' '65,89 m²' '50,09 m²' '66,73 m²' '72,37 m²' '51,96 m²'\n",
      " '57,05 m²' '47,8 m²' '36,43 m²' '81,46 m²' '70,45 m²' '61,5 m²' '36,7 m²'\n",
      " '33,98 m²' '53,18 m²' '71,2 m²' '36,1 m²' '75,28 m²' '43,63 m²'\n",
      " '71,18 m²' '68,35 m²' '53,42 m²' '36,8 m²' '56,7 m²' '41,89 m²'\n",
      " '36,95 m²' '38,67 m²' '38,8 m²' '44,28 m²' '115,53 m²' '115,96 m²'\n",
      " '54,57 m²' '36,93 m²' '47,12 m²' '61,39 m²' '59,71 m²' '35,96 m²'\n",
      " '63,5 m²' '52,05 m²' '37,3 m²' '28,17 m²' '52,06 m²' '34,8 m²' '61,4 m²'\n",
      " '81,84 m²' '46 m²' '42,49 m²' '40,13 m²' '39,06 m²' '39,07 m²' '32,56 m²'\n",
      " '39,74 m²' '30,49 m²' '55,12 m²' '36,75 m²' '80,95 m²' '52 m²' '28,18 m²'\n",
      " '70,79 m²' '46,78 m²' '59,55 m²' '39,91 m²' '43,08 m²' '53,88 m²'\n",
      " '151,56 m²' '152,7 m²' '69,82 m²' '41,73 m²' '61 m²' '46,89 m²'\n",
      " '49,39 m²' '70,89 m²' '35,13 m²' '37,65 m²' '55,2 m²' '34,5 m²'\n",
      " '58,85 m²' '45,29 m²' '61,31 m²' '87,07 m²' '71,52 m²' '56,23 m²'\n",
      " '36,3 m²' '46,77 m²' '48,87 m²' '101,57 m²' '40,84 m²' '52,5 m²'\n",
      " '60,4 m²' '62,01 m²' '48 m²' '77,81 m²' '61,6 m²' '35,71 m²' '35,73 m²'\n",
      " '87,9 m²' '40,5 m²' '40,95 m²' '27,2 m²' '60,49 m²' '43,4 m²' '60,53 m²'\n",
      " '49,1 m²' '65,79 m²' '72,79 m²' '47,36 m²' '44,48 m²' '39,14 m²' '36 m²'\n",
      " '53,9 m²' '74,03 m²' '66,35 m²' '71,55 m²' '66,34 m²' '66,49 m²'\n",
      " '71,93 m²' '26,01 m²' '66,47 m²' '42,32 m²' nan '42,26 m²' '47,61 m²'\n",
      " '52,59 m²' '41,61 m²' '58,91 m²' '50,01 m²' '33,95 m²' '63,44 m²'\n",
      " '52,02 m²' '37,08 m²' '40,01 m²' '104,66 m²' '42,19 m²' '63,95 m²'\n",
      " '45,59 m²' '101 m²' '71,02 m²' '58,95 m²' '35,15 m²' '171,52 m²'\n",
      " '39,18 m²' '42,64 m²' '42,42 m²' '78,26 m²' '64,21 m²' '46,56 m²'\n",
      " '34,01 m²' '50 m²' '36,48 m²' '36,82 m²' '60,65 m²' '40,94 m²' '28,15 m²'\n",
      " '36,9 m²' '60,04 m²' '81,97 m²' '48,77 m²' '48,82 m²' '55,39 m²'\n",
      " '45,98 m²' '63,33 m²' '65,28 m²' '73,04 m²' '62,18 m²' '60,8 m²'\n",
      " '96,03 m²' '38,41 m²' '51,74 m²' '54,9 m²' '74,7 m²' '76,3 m²' '114,5 m²'\n",
      " '50,87 m²' '95,02 m²' '58,39 m²' '58,87 m²' '61,96 m²' '32,28 m²'\n",
      " '67,8 m²' '74,92 m²' '66 m²' '45,68 m²' '41,84 m²' '100,5 m²' '102,95 m²'\n",
      " '60,68 m²' '65,9 m²' '44,7 m²' '42,09 m²' '49 m²' '87,5 m²' '82 m²'\n",
      " '91 m²' '58,66 m²' '61,86 m²' '48,96 m²' '49,93 m²' '63 m²' '96 m²'\n",
      " '47 m²' '22,52 m²' '67,1 m²' '33 m²' '49,26 m²' '45 m²' '43,69 m²'\n",
      " '46,9 m²' '29,8 m²' '32,34 m²' '47,79 m²' '49,5 m²' '78 m²' '27 m²'\n",
      " '24 m²' '32,67 m²' '49,9 m²' '98,3 m²' '27,6 m²' '35 m²' '70,6 m²'\n",
      " '39,19 m²' '45,13 m²' '66,67 m²' '98,77 m²' '127 m²' '50,07 m²' '99,5 m²'\n",
      " '130 m²' '41,12 m²' '45,86 m²' '77,94 m²' '81,44 m²' '90 m²' '54,24 m²'\n",
      " '40,3 m²' '75,5 m²' '83,2 m²' '82,12 m²' '67,6 m²' '72,19 m²' '79 m²'\n",
      " '34 m²' '64 m²' '42,2 m²' '61,16 m²' '64,4 m²' '108,54 m²' '112,1 m²'\n",
      " '89 m²' '60,2 m²' '61,7 m²' '96,41 m²' '53 m²' '66,4 m²' '44 m²'\n",
      " '58,6 m²' '73,16 m²' '62,62 m²' '29,22 m²' '46,5 m²' '62 m²' '71 m²'\n",
      " '75 m²' '50,68 m²' '83 m²' '76 m²' '62,1 m²' '53,01 m²' '78,12 m²'\n",
      " '72 m²' '64,76 m²' '68,45 m²' '31 m²' '25,1 m²' '67 m²' '52,8 m²'\n",
      " '27,5 m²' '31,05 m²' '38 m²' '55,7 m²' '42 m²' '79,02 m²' '43,6 m²'\n",
      " '73 m²' '44,4 m²' '35,2 m²' '24,6 m²' '76,06 m²' '48,25 m²' '56,12 m²'\n",
      " '50,1 m²' '65,47 m²' '43,68 m²' '68 m²' '48,21 m²' '64,63 m²' '39,4 m²'\n",
      " '64,6 m²' '85,16 m²' '65 m²' '55,4 m²' '56,2 m²' '73,5 m²' '55,9 m²'\n",
      " '69,33 m²' '53,2 m²' '66,18 m²' '77,3 m²' '80,03 m²' '74,41 m²' '56 m²'\n",
      " '72,4 m²' '58,13 m²' '60,17 m²' '45,61 m²' '37,22 m²' '48,74 m²'\n",
      " '63,45 m²' '36,53 m²' '40,8 m²' '85 m²' '38,2 m²' '47,7 m²' '92 m²'\n",
      " '40,9 m²' '137 m²' '77 m²' '47,39 m²' '89,6 m²' '48,33 m²' '48,3 m²'\n",
      " '45,5 m²' '35,55 m²' '30,55 m²' '33,9 m²' '75,45 m²' '45,2 m²' '37,86 m²'\n",
      " '42,4 m²' '48,7 m²' '32,66 m²' '76,05 m²' '46,4 m²' '46,13 m²' '51,27 m²'\n",
      " '59,85 m²' '65,2 m²' '73,3 m²' '48,9 m²' '48,4 m²' '59,28 m²' '61,84 m²'\n",
      " '54,2 m²' '48,64 m²' '57,85 m²' '53,65 m²' '78,5 m²' '61,1 m²' '48,8 m²'\n",
      " '107 m²' '45,3 m²' '47,33 m²' '81 m²' '63,2 m²' '49,2 m²' '53,69 m²'\n",
      " '41,02 m²' '59,7 m²' '62,61 m²' '86,93 m²' '93 m²' '106 m²' '103 m²'\n",
      " '86 m²' '69,3 m²' '66,7 m²' '75,19 m²' '123,5 m²' '99 m²' '74 m²'\n",
      " '111,3 m²' '54,07 m²' '70,04 m²' '38,14 m²' '70,44 m²' '44,15 m²'\n",
      " '41,06 m²' '63,3 m²' '50,78 m²' '56,5 m²' '98,2 m²' '38,65 m²' '30,1 m²'\n",
      " '39,04 m²' '65,6 m²' '44,5 m²' '49,3 m²' '57,6 m²' '45,16 m²' '110 m²'\n",
      " '45,4 m²' '59,3 m²' '84 m²' '111,1 m²' '52,14 m²' '56,4 m²' '59,54 m²'\n",
      " '71,9 m²' '73,17 m²' '112,4 m²' '94 m²' '50,8 m²' '150 m²' '28,74 m²'\n",
      " '49,21 m²' '37,84 m²' '46,8 m²' '44,34 m²' '98,56 m²' '69,36 m²'\n",
      " '55,43 m²' '43,1 m²' '21,3 m²' '105 m²' '61,64 m²' '69 m²' '71,09 m²'\n",
      " '66,8 m²' '57 m²' '57,63 m²' '18,18 m²' '46,51 m²' '42,57 m²' '46,2 m²'\n",
      " '43,7 m²' '47,2 m²' '26 m²' '50,15 m²' '72,5 m²' '89,09 m²' '118,56 m²'\n",
      " '99,9 m²' '48,2 m²' '74,8 m²' '52,1 m²' '26,1 m²' '49,97 m²' '36,76 m²'\n",
      " '34,63 m²' '78,8 m²' '69,38 m²' '53,5 m²' '33,43 m²' '700 m²' '87,3 m²'\n",
      " '27,7 m²' '62,6 m²' '64,25 m²' '47,62 m²' '31,5 m²' '60,28 m²' '52,13 m²'\n",
      " '49,18 m²' '95,5 m²' '70,91 m²' '30,34 m²' '47,9 m²' '43,3 m²'\n",
      " '133,18 m²' '49,51 m²' '70,62 m²' '50,32 m²' '73,6 m²' '32,5 m²'\n",
      " '50,18 m²' '67,12 m²' '67,7 m²' '112 m²' '45,6 m²' '50,5 m²' '45,8 m²'\n",
      " '35,69 m²' '47,25 m²' '55,21 m²' '98,67 m²' '52,6 m²' '71,7 m²' '43,9 m²'\n",
      " '38,97 m²' '52,97 m²' '42,41 m²' '83,7 m²' '64,84 m²' '53,4 m²' '27,4 m²'\n",
      " '50,06 m²' '36,4 m²' '68,68 m²' '29,99 m²' '58,02 m²' '77,8 m²' '58,1 m²'\n",
      " '103,9 m²' '74,5 m²' '47,49 m²' '49,6 m²' '22,5 m²' '56,8 m²' '52,11 m²'\n",
      " '62,97 m²' '50,3 m²' '58,7 m²' '68,28 m²' '80,12 m²' '93,57 m²'\n",
      " '55,16 m²' '110,4 m²' '42,34 m²' '45,77 m²' '68,8 m²' '60,7 m²'\n",
      " '38,78 m²' '32,6 m²' '102 m²' '58,58 m²' '68,3 m²' '35,4 m²' '48,5 m²'\n",
      " '40,12 m²' '77,2 m²' '47,5 m²' '41,71 m²' '40,7 m²' '64,7 m²' '56,3 m²'\n",
      " '41,97 m²' '68,93 m²' '60,9 m²' '39 m²' '26,32 m²' '466 m²' '23,15 m²'\n",
      " '32 m²' '88 m²' '69,4 m²' '50,2 m²' '35,53 m²' '35,67 m²' '69,1 m²'\n",
      " '88,16 m²' '46,7 m²' '154,56 m²' '159,26 m²' '159,81 m²' '30,94 m²'\n",
      " '67,87 m²' '72,65 m²' '40,44 m²' '68,25 m²' '31,1 m²']\n",
      "\n",
      "\n",
      "rooms [4.0 6.0 5.0 3.0 2.0 1.0 nan '2 ' '3 ' '5 ' '1 ' '4 ' 'więcej niż 10']\n",
      "\n",
      "\n",
      "rent ['zapytaj' '480 zł' '184 zł' '250 zł' '500 zł' '8 zł' '300 zł' '900 zł'\n",
      " '800 zł' '280 zł' '330 zł' '366 zł' '320 zł' '516 zł' '220 zł' '267 zł'\n",
      " '369 zł' '378 zł' nan '399 zł' '256 zł' '560 zł' '640 zł' '376 zł'\n",
      " '325 zł' '450 zł' '350 zł' '600 zł' '690 zł' '533 zł' '550 zł' '490 zł'\n",
      " '400 zł' '700 zł' '365 zł' '380 zł' '345 zł' '630 zł' '820 zł' '610 zł'\n",
      " '520 zł' '420 zł' '240 zł' '437 zł' '1 600 zł' '636 zł' '590 zł' '650 zł'\n",
      " '750 zł' '200 zł' '440 zł' '360 zł' '270 zł' '255 zł' '370 zł' '830 zł'\n",
      " '615 zł' '410 zł' '570 zł' '470 zł' '390 zł' '268 zł' '575 zł' '375 zł'\n",
      " '540 zł' '460 zł' '430 zł' '512 zł' '290 zł' '1 200 zł' '1 300 zł'\n",
      " '1 000 zł' '850 zł' '392 zł' '421 zł' '565 zł' '219 zł' '1 100 zł'\n",
      " '620 zł' '696 zł' '150 zł' '670 zł' '810 zł' '345,20 zł' '649 zł'\n",
      " '940 zł' '535 zł' '780 zł' '580 zł' '415 zł' '445 zł' '786 zł' '1 400 zł'\n",
      " '319 zł' '416 zł' '475 zł' '760 zł' '950 zł' '359 zł' '924 zł' '230 zł']\n",
      "\n",
      "\n",
      "floor ['2/6' '1/1' '2/4' 'parter/1' 'parter/4' '3/4' '1/3' '1/2' 'parter/2'\n",
      " '4/4' 'parter/3' '3/3' '1/4' '2/2' '5/11' '4/5' '1' '1/11' '2/11' '1/6'\n",
      " '3/5' '1/5' '> 10/12' 'zapytaj' '2/3' '6/17' '5/5' 'parter/5' '2/5' '3'\n",
      " '6/6' '3/17' '6/10' 'parter/7' '2/17' '4' 'parter/17' 'parter' '1/7' nan\n",
      " 'parter/6' '2' '7/7' '2/7' '3/7' '3/6' '5/15' '4/8' 'parter/11' '9/18'\n",
      " '8/16' '3/11' '3/10' '2/10' '> 10/16' '10/10' '2/18' '9/10' '6/8' '5/6'\n",
      " '7/10' '> 10/15' '7/17' '1/12' '> 10/17' '4/6' '5/10' '10/18' 'parter/10'\n",
      " '1/8' '6/12' '10/11' 'parter/12' '3/16' '3/9' '10/16' 'parter/16'\n",
      " '> 10/11' '8/17' '4/10' '8/12' '10/12' '2/15' '9/12' '10/17' '6/16'\n",
      " '9/17' '4/11' '4/1' '3/12' '9/9' '8/9' '4/9' '1/9' '5/17' '6/7' '7/11'\n",
      " '> 10/10' '10/15' '1/17' '7/12' '10/13' '8/10' '1/10']\n",
      "\n",
      "\n",
      "year [  nan 2021. 1950. 1980. 1975. 2015. 2008. 2009. 2011. 2007. 2018. 2014.\n",
      " 2000. 2022. 2016. 1970. 2002. 2010. 2003. 1920. 1955. 2019. 1900. 1995.\n",
      " 1985. 2013. 1918. 1952. 1982. 1902. 1971. 2006. 2017. 1930. 1965. 2012.\n",
      " 1998. 1960. 1986. 1910. 1994. 2020. 1905. 1945. 2004. 1966. 2005. 1959.\n",
      " 1929. 1908. 1963. 1977. 1967. 1974. 1968. 1988. 1927. 1957. 1992. 1926.\n",
      " 2001. 1935. 1973. 1928. 1914. 1901. 1916. 1978. 1907. 1962. 1953. 1990.\n",
      " 1906. 2024. 1969. 1938. 1997. 1991. 1896. 1911. 1984. 1940. 1999. 1956.\n",
      " 1936. 1875. 1996. 1924. 1979. 1972. 2023. 1976. 1981. 1880.]\n",
      "\n",
      "\n",
      "balcony ['zapytaj' 'taras' 'balkon' 'taras, ogródek' 'balkon, ogródek' 'ogródek'\n",
      " 'balkon, taras' 'ogródek, taras' 'balkon, ogródek, taras' nan]\n",
      "\n",
      "\n",
      "garage ['zapytaj' 'garaż/miejsce parkingowe' nan]\n",
      "\n",
      "\n",
      "elevator ['nie' nan 'tak']\n",
      "\n",
      "\n",
      "furnishing [nan 'zmywarka, lodówka, meble, piekarnik, kuchenka'\n",
      " 'zmywarka, lodówka, piekarnik, kuchenka, telewizor, pralka'\n",
      " 'meble, piekarnik' 'zmywarka, meble'\n",
      " 'zmywarka, lodówka, meble, piekarnik, kuchenka, telewizor, pralka'\n",
      " 'lodówka, meble, piekarnik, kuchenka, telewizor, pralka'\n",
      " 'lodówka, meble, piekarnik, kuchenka, pralka' 'zmywarka, lodówka, meble'\n",
      " 'meble' 'lodówka, meble, kuchenka, telewizor, pralka'\n",
      " 'zmywarka, lodówka, meble, piekarnik, kuchenka, telewizor'\n",
      " 'zmywarka, lodówka, meble, piekarnik, kuchenka, pralka'\n",
      " 'piekarnik, pralka' 'meble, piekarnik, kuchenka'\n",
      " 'zmywarka, lodówka, piekarnik, kuchenka, pralka'\n",
      " 'zmywarka, meble, piekarnik, kuchenka'\n",
      " 'zmywarka, lodówka, meble, kuchenka, telewizor, pralka'\n",
      " 'piekarnik, kuchenka' 'zmywarka, lodówka, piekarnik, kuchenka'\n",
      " 'lodówka, meble, pralka' 'zmywarka, lodówka, meble, kuchenka, telewizor'\n",
      " 'lodówka, meble, kuchenka, pralka' 'lodówka'\n",
      " 'lodówka, piekarnik, kuchenka, pralka'\n",
      " 'zmywarka, lodówka, meble, piekarnik, pralka'\n",
      " 'zmywarka, piekarnik, kuchenka'\n",
      " 'zmywarka, lodówka, meble, piekarnik, telewizor, pralka'\n",
      " 'zmywarka, lodówka, meble, piekarnik'\n",
      " 'meble, piekarnik, kuchenka, pralka' 'meble, kuchenka'\n",
      " 'lodówka, meble, piekarnik, kuchenka' 'piekarnik, kuchenka, pralka'\n",
      " 'lodówka, meble, telewizor, pralka' 'lodówka, piekarnik, kuchenka'\n",
      " 'zmywarka, lodówka, piekarnik'\n",
      " 'zmywarka, lodówka, meble, kuchenka, pralka'\n",
      " 'zmywarka, lodówka, meble, piekarnik, telewizor' 'kuchenka' 'pralka'\n",
      " 'lodówka, piekarnik, kuchenka, telewizor, pralka' 'lodówka, kuchenka']\n",
      "\n",
      "\n",
      "extra_info [nan 'oddzielna kuchnia, dwupoziomowe' 'piwnica' 'pom. użytkowe'\n",
      " 'piwnica, pom. użytkowe' 'piwnica, oddzielna kuchnia, pom. użytkowe'\n",
      " 'oddzielna kuchnia' 'oddzielna kuchnia, pom. użytkowe'\n",
      " 'dwupoziomowe, pom. użytkowe' 'piwnica, oddzielna kuchnia' 'dwupoziomowe'\n",
      " 'piwnica, oddzielna kuchnia, dwupoziomowe' 'piwnica, dwupoziomowe'\n",
      " 'piwnica, dwupoziomowe, pom. użytkowe']\n",
      "\n",
      "\n",
      "seller_type ['biuro nieruchomości ' 'prywatny' nan 'deweloper']\n",
      "\n",
      "\n",
      "market ['pierwotny' nan 'wtórny']\n",
      "\n",
      "\n",
      "ownership ['zapytaj' 'pełna własność' nan 'spółdzielcze wł. z KW'\n",
      " 'spółdzielcze własnościowe' 'udział']\n",
      "\n",
      "\n"
     ]
    }
   ],
   "source": [
    "unique_values_dict = {}\n",
    "\n",
    "\"\"\"Building dictionary to store column names and coresponding unique values.\"\"\"\n",
    "for column in alldata.columns:\n",
    "    unique_values_dict[column] = alldata[column].unique()\n",
    "    \n",
    "\"\"\"Printing the results.\"\"\"\n",
    "for key, item in unique_values_dict.items():\n",
    "    print(key, item)\n",
    "    print(\"\\n\")"
   ]
  },
  {
   "cell_type": "markdown",
   "metadata": {},
   "source": [
    "#### **Conclusions** \n",
    "\n",
    "1. Numeric values should be formated as *floats* or *ints* not objects\n",
    "2. Missing values (nan) are present in dataset. In case of some columns they will require further inspection.\n",
    "3. Strange values such as *\"zapytaj\"* should be replaced in further steps of analysis. \n",
    "4. `Floor` column also has information about total floor number. If needed there is the possibility to split the column.\n",
    "\n",
    "    <br />"
   ]
  },
  {
   "cell_type": "markdown",
   "metadata": {},
   "source": [
    "## **Cleaning the data**\n",
    "Part I of the analysis requires us to modify and clean the following columns: <br />\n",
    "\n",
    "- `price` - convert to float64 (chage current strange format and remove currency \"zł\")\n",
    "- `area` - convert to float64 (remove \"m²\")\n",
    "- `rent` - convert to float64 (remove currency \"zł\"), missing values are going to be replaced with mean value\n",
    "- `rooms` -convert to float64\n",
    "- `city` - exclude any record that is not from Gdańsk (although data was filtered by city at data accuisition stage,  <br />\n",
    "we can notice some strange values. Most likely these are the result of people inpuuting offer data in inappropriate fields)\n",
    "\n",
    "\n"
   ]
  },
  {
   "cell_type": "markdown",
   "metadata": {},
   "source": [
    "#### **Cleaning functions**\n",
    "\n",
    "Here, I design cleaning functions so in the next step I can apply them on dedicated columns. "
   ]
  },
  {
   "cell_type": "code",
   "execution_count": 27,
   "metadata": {},
   "outputs": [],
   "source": [
    "\"\"\"Cleaning: PRICE\"\"\"\n",
    "def extract_price(value):\n",
    "    value = value.replace(u\"\\xa0\", u\"\") \\\n",
    "                 .replace(\",\", \".\")               \n",
    "    return float(value[:-2])\n",
    "\n",
    "\"\"\"Cleeaning: AREA\"\"\"\n",
    "def extract_area(value):\n",
    "    if isinstance(value, str):\n",
    "        value = value.replace(\",\", \".\") \\\n",
    "                     .replace(\"m²\", \"\") \\\n",
    "                     .strip() \n",
    "    return float(value)\n",
    "\n",
    "\"\"\"Cleaning: RENT\"\"\"\n",
    "def extract_rent(value):\n",
    "    # I found one missing value formated as np.nan\n",
    "    # Therefore I change it to \"zapytaj\" to match other missing values \n",
    "    if isinstance(value, float):\n",
    "        value = \"zapytaj\"\n",
    "    if value != \"zapytaj\":\n",
    "        value = value.replace(\" \", \"\") \\\n",
    "                     .replace(\",\", \".\")\n",
    "        value = float(value[:-2])\n",
    "    return value\n",
    "\n",
    "def replace_rent(value):\n",
    "    # calculation of mean\n",
    "    mean = alldata.rent[alldata.rent != \"zapytaj\"].mean()\n",
    "    if value == \"zapytaj\":\n",
    "        value = mean\n",
    "    return value\n",
    "\n",
    "\"\"\"Cleaning: ROOMS\"\"\"\n",
    "def extract_rooms(value):\n",
    "    if isinstance(value, str):\n",
    "        try: \n",
    "            value = float(value.strip())\n",
    "        except ValueError: \n",
    "            value = 10.0 \n",
    "    return value\n",
    "\n",
    "\"\"\"Cleaning: CITY\"\"\"\n",
    "alldata = alldata[alldata.city == \"Gdańsk\"]"
   ]
  },
  {
   "cell_type": "markdown",
   "metadata": {},
   "source": [
    "#### **Updating dataframe**"
   ]
  },
  {
   "cell_type": "code",
   "execution_count": 72,
   "metadata": {},
   "outputs": [],
   "source": [
    "# PRICE\n",
    "alldata.price = alldata.price.apply(extract_price)\n",
    "\n",
    "#AREA\n",
    "alldata.area = alldata.area.apply(extract_area)\n",
    "\n",
    "#RENT\n",
    "alldata.rent = alldata.rent.apply(extract_rent)\n",
    "alldata.rent = alldata.rent.apply(replace_rent)\n",
    "\n",
    "#ROOMS\n",
    "alldata.rooms = alldata.rooms.apply(extract_rooms)"
   ]
  },
  {
   "cell_type": "markdown",
   "metadata": {},
   "source": [
    "#### **Cleaning tests**\n",
    "\n",
    "Now, all columns selected for modification are saved in appropriate format. <br />\n",
    "Thanks to this change, it is possible to carry matematical opperations on these columns."
   ]
  },
  {
   "cell_type": "code",
   "execution_count": 8,
   "metadata": {},
   "outputs": [
    {
     "name": "stdout",
     "output_type": "stream",
     "text": [
      "price    float64\n",
      "area     float64\n",
      "rent     float64\n",
      "rooms    float64\n",
      "dtype: object\n",
      "['Gdańsk']\n"
     ]
    }
   ],
   "source": [
    "dtype_test = alldata[[\"price\", \"area\", \"rent\", \"rooms\"]]\n",
    "print(dtype_test.dtypes)\n",
    "print(alldata.city.unique())"
   ]
  },
  {
   "cell_type": "markdown",
   "metadata": {},
   "source": [
    "## **Analysis**\n",
    "\n",
    "The ultimate goal of the analysis is to investigate how different factors affect the prices of properties. <br />"
   ]
  },
  {
   "cell_type": "markdown",
   "metadata": {},
   "source": [
    "#### **Market overview**\n",
    "\n",
    "At the begining, its important to check the general metrics. We can see below that there is quite substential <br />\n",
    "difference between average and median price values. Mean value is larger then the median, as a result we can already suspect <br />\n",
    "that the price distribution is right skewd."
   ]
  },
  {
   "cell_type": "code",
   "execution_count": 9,
   "metadata": {},
   "outputs": [
    {
     "name": "stdout",
     "output_type": "stream",
     "text": [
      "General statistics:\n",
      "Total number of properties: 1188  \n",
      "Avearge price: 716326.62  \n",
      "Median price 598000.0 \n",
      "Avearge rent: 498.89  \n",
      "\n"
     ]
    }
   ],
   "source": [
    "summary = f\"\"\"General statistics:\n",
    "Total number of properties: {len(alldata)}  \n",
    "Avearge price: {alldata.price.mean():.2f}  \n",
    "Median price {alldata.price.median()} \n",
    "Avearge rent: {alldata.rent.mean():.2f}  \n",
    "\"\"\"\n",
    "print(summary)"
   ]
  },
  {
   "cell_type": "markdown",
   "metadata": {},
   "source": [
    "#### **Price distribution**\n",
    "\n",
    "To illustrate this further let's look at the histogram. We can deffinitely confirm our initial assumpition <br />\n",
    "about the distribution. The majority of offers listed fall between 300,000 and 1 millon price range. <br />\n",
    "The assymetry is an obvios implication of very expensive proprties listed that are not that frequent.\n",
    "\n",
    "**Important note**: In order to increae the readability of the chart, I only selected properties <br />\n",
    "with price below 3,500,000 pln.\n",
    "\n",
    " "
   ]
  },
  {
   "cell_type": "code",
   "execution_count": 10,
   "metadata": {},
   "outputs": [
    {
     "data": {
      "text/plain": [
       "<AxesSubplot:xlabel='price', ylabel='Count'>"
      ]
     },
     "execution_count": 10,
     "metadata": {},
     "output_type": "execute_result"
    },
    {
     "data": {
      "image/png": "[encoded data removed]",
      "text/plain": [
       "<Figure size 432x288 with 1 Axes>"
      ]
     },
     "metadata": {},
     "output_type": "display_data"
    }
   ],
   "source": [
    "sns.set_theme(style=\"darkgrid\")\n",
    "sns.histplot(data=alldata[alldata.price < 3500000], \n",
    "             x=\"price\", \n",
    "             binwidth=100000, \n",
    "             kde=True,\n",
    "             )\n"
   ]
  },
  {
   "cell_type": "markdown",
   "metadata": {},
   "source": [
    "Second vizualisation displays price distributions depending on the number of rooms. I have deselected properties <br />\n",
    "with 6 or more rooms since there is to litte data about. Thereby, these offers are insignificant for the analysis. <br />\n",
    "<br />\n",
    "As expected, when the numer of rooms increases, so does the mean value and distribution \"moves to the right\""
   ]
  },
  {
   "cell_type": "code",
   "execution_count": 11,
   "metadata": {},
   "outputs": [
    {
     "name": "stderr",
     "output_type": "stream",
     "text": [
      "C:\\Users\\budcr\\AppData\\Local\\Temp/ipykernel_17260/373347284.py:1: UserWarning: Boolean Series key will be reindexed to match DataFrame index.\n",
      "  facet_grid_data = alldata[alldata.rooms<6][alldata.price < 2500000]\n"
     ]
    },
    {
     "data": {
      "text/plain": [
       "<seaborn.axisgrid.FacetGrid at 0x24a656051b0>"
      ]
     },
     "execution_count": 11,
     "metadata": {},
     "output_type": "execute_result"
    },
    {
     "data": {
      "image/png": "[encoded data removed]",
      "text/plain": [
       "<Figure size 1080x216 with 5 Axes>"
      ]
     },
     "metadata": {},
     "output_type": "display_data"
    }
   ],
   "source": [
    "facet_grid_data = alldata[alldata.rooms<6][alldata.price < 2500000]\n",
    "\n",
    "grid = sns.FacetGrid(facet_grid_data, col=\"rooms\")\n",
    "grid.map(sns.histplot, \"price\", binwidth=100000, kde=True)"
   ]
  },
  {
   "cell_type": "markdown",
   "metadata": {},
   "source": [
    "#### **What are the most and least expensive districts?** \n",
    "\n",
    "In this part of the analysis, my goal is to discover how districts affect the price. <br /> \n",
    "<br />\n",
    "I've created a function that calculates summary statistics for grupped data. Here, I group data by the distirict and <br />\n",
    "measure the prices. I'm displaying only districts with 15 or more listings. This prevents showing areas with little data or <br />\n",
    "that were simply wrongly formated."
   ]
  },
  {
   "cell_type": "code",
   "execution_count": 12,
   "metadata": {},
   "outputs": [
    {
     "data": {
      "text/html": [
       "<div>\n",
       "<style scoped>\n",
       "    .dataframe tbody tr th:only-of-type {\n",
       "        vertical-align: middle;\n",
       "    }\n",
       "\n",
       "    .dataframe tbody tr th {\n",
       "        vertical-align: top;\n",
       "    }\n",
       "\n",
       "    .dataframe thead th {\n",
       "        text-align: right;\n",
       "    }\n",
       "</style>\n",
       "<table border=\"1\" class=\"dataframe\">\n",
       "  <thead>\n",
       "    <tr style=\"text-align: right;\">\n",
       "      <th></th>\n",
       "      <th>mean</th>\n",
       "      <th>median</th>\n",
       "      <th>min</th>\n",
       "      <th>max</th>\n",
       "      <th>len</th>\n",
       "    </tr>\n",
       "    <tr>\n",
       "      <th>district</th>\n",
       "      <th></th>\n",
       "      <th></th>\n",
       "      <th></th>\n",
       "      <th></th>\n",
       "      <th></th>\n",
       "    </tr>\n",
       "  </thead>\n",
       "  <tbody>\n",
       "    <tr>\n",
       "      <th>Oliwa</th>\n",
       "      <td>1118733.48</td>\n",
       "      <td>960000.0</td>\n",
       "      <td>399000.0</td>\n",
       "      <td>2700000.0</td>\n",
       "      <td>48</td>\n",
       "    </tr>\n",
       "    <tr>\n",
       "      <th>Śródmieście</th>\n",
       "      <td>1025993.14</td>\n",
       "      <td>849000.0</td>\n",
       "      <td>285000.0</td>\n",
       "      <td>10900000.0</td>\n",
       "      <td>127</td>\n",
       "    </tr>\n",
       "    <tr>\n",
       "      <th>Brzeźno</th>\n",
       "      <td>931208.61</td>\n",
       "      <td>689000.0</td>\n",
       "      <td>349000.0</td>\n",
       "      <td>2850000.0</td>\n",
       "      <td>28</td>\n",
       "    </tr>\n",
       "    <tr>\n",
       "      <th>Wrzeszcz</th>\n",
       "      <td>892643.22</td>\n",
       "      <td>770000.0</td>\n",
       "      <td>399000.0</td>\n",
       "      <td>2550000.0</td>\n",
       "      <td>107</td>\n",
       "    </tr>\n",
       "    <tr>\n",
       "      <th>Zaspa</th>\n",
       "      <td>807772.86</td>\n",
       "      <td>740000.0</td>\n",
       "      <td>365000.0</td>\n",
       "      <td>1570000.0</td>\n",
       "      <td>35</td>\n",
       "    </tr>\n",
       "    <tr>\n",
       "      <th>Piecki-Migowo</th>\n",
       "      <td>750551.72</td>\n",
       "      <td>699000.0</td>\n",
       "      <td>447702.0</td>\n",
       "      <td>1475000.0</td>\n",
       "      <td>53</td>\n",
       "    </tr>\n",
       "    <tr>\n",
       "      <th>Przymorze</th>\n",
       "      <td>737296.05</td>\n",
       "      <td>669000.0</td>\n",
       "      <td>319000.0</td>\n",
       "      <td>3695000.0</td>\n",
       "      <td>80</td>\n",
       "    </tr>\n",
       "    <tr>\n",
       "      <th>Letnica</th>\n",
       "      <td>702358.23</td>\n",
       "      <td>676000.0</td>\n",
       "      <td>434000.0</td>\n",
       "      <td>1327000.0</td>\n",
       "      <td>58</td>\n",
       "    </tr>\n",
       "    <tr>\n",
       "      <th>pomorskie</th>\n",
       "      <td>680359.95</td>\n",
       "      <td>543974.0</td>\n",
       "      <td>241258.0</td>\n",
       "      <td>1444705.0</td>\n",
       "      <td>22</td>\n",
       "    </tr>\n",
       "    <tr>\n",
       "      <th>Siedlce</th>\n",
       "      <td>648815.23</td>\n",
       "      <td>599000.0</td>\n",
       "      <td>357000.0</td>\n",
       "      <td>1460150.0</td>\n",
       "      <td>26</td>\n",
       "    </tr>\n",
       "    <tr>\n",
       "      <th>Stogi</th>\n",
       "      <td>557383.12</td>\n",
       "      <td>452000.0</td>\n",
       "      <td>320000.0</td>\n",
       "      <td>840195.0</td>\n",
       "      <td>16</td>\n",
       "    </tr>\n",
       "    <tr>\n",
       "      <th>Jasień</th>\n",
       "      <td>557293.93</td>\n",
       "      <td>522500.0</td>\n",
       "      <td>265000.0</td>\n",
       "      <td>1498000.0</td>\n",
       "      <td>158</td>\n",
       "    </tr>\n",
       "    <tr>\n",
       "      <th>Ujeścisko-Łostowice</th>\n",
       "      <td>483960.42</td>\n",
       "      <td>446057.0</td>\n",
       "      <td>249200.0</td>\n",
       "      <td>1028761.0</td>\n",
       "      <td>185</td>\n",
       "    </tr>\n",
       "    <tr>\n",
       "      <th>Żabianka</th>\n",
       "      <td>466705.88</td>\n",
       "      <td>448000.0</td>\n",
       "      <td>350000.0</td>\n",
       "      <td>609000.0</td>\n",
       "      <td>17</td>\n",
       "    </tr>\n",
       "    <tr>\n",
       "      <th>Chełm</th>\n",
       "      <td>465290.69</td>\n",
       "      <td>456630.0</td>\n",
       "      <td>286000.0</td>\n",
       "      <td>1090000.0</td>\n",
       "      <td>70</td>\n",
       "    </tr>\n",
       "    <tr>\n",
       "      <th>Orunia Górna-Gdańsk Południe</th>\n",
       "      <td>446851.44</td>\n",
       "      <td>418091.0</td>\n",
       "      <td>320000.0</td>\n",
       "      <td>649000.0</td>\n",
       "      <td>27</td>\n",
       "    </tr>\n",
       "  </tbody>\n",
       "</table>\n",
       "</div>"
      ],
      "text/plain": [
       "                                    mean    median       min         max  len\n",
       "district                                                                     \n",
       "Oliwa                         1118733.48  960000.0  399000.0   2700000.0   48\n",
       "Śródmieście                   1025993.14  849000.0  285000.0  10900000.0  127\n",
       "Brzeźno                        931208.61  689000.0  349000.0   2850000.0   28\n",
       "Wrzeszcz                       892643.22  770000.0  399000.0   2550000.0  107\n",
       "Zaspa                          807772.86  740000.0  365000.0   1570000.0   35\n",
       "Piecki-Migowo                  750551.72  699000.0  447702.0   1475000.0   53\n",
       "Przymorze                      737296.05  669000.0  319000.0   3695000.0   80\n",
       "Letnica                        702358.23  676000.0  434000.0   1327000.0   58\n",
       "pomorskie                      680359.95  543974.0  241258.0   1444705.0   22\n",
       "Siedlce                        648815.23  599000.0  357000.0   1460150.0   26\n",
       "Stogi                          557383.12  452000.0  320000.0    840195.0   16\n",
       "Jasień                         557293.93  522500.0  265000.0   1498000.0  158\n",
       "Ujeścisko-Łostowice            483960.42  446057.0  249200.0   1028761.0  185\n",
       "Żabianka                       466705.88  448000.0  350000.0    609000.0   17\n",
       "Chełm                          465290.69  456630.0  286000.0   1090000.0   70\n",
       "Orunia Górna-Gdańsk Południe   446851.44  418091.0  320000.0    649000.0   27"
      ]
     },
     "execution_count": 12,
     "metadata": {},
     "output_type": "execute_result"
    }
   ],
   "source": [
    "def summarise_stats(groupby: str, values_column: str, min_count=5):\n",
    "    data_by_column = alldata.groupby(groupby)[values_column].agg([np.mean, np.median, min, max, len])\n",
    "    data_by_column = data_by_column[data_by_column.len > min_count].round(2)\n",
    "    return  data_by_column\n",
    "\n",
    "stats_by_district = summarise_stats(groupby = \"district\", values_column = \"price\", min_count = 15)\n",
    "stats_by_district = stats_by_district.sort_values(by = \"mean\", ascending = False)\n",
    "stats_by_district"
   ]
  },
  {
   "cell_type": "markdown",
   "metadata": {},
   "source": [
    "Bar chart illustrates the arranged oreder of most expensive districts in Gdańsk. Results are quite clear. <br />\n",
    "On average the most expensive districts are 'Oliwa' and 'Śródmieście' with the cheapest being 'Orunia Górna-Gdańsk Południe' <br />\n",
    "<br />\n",
    "We can also notice, judging by the number of offers posted (`len` column) that districts 'Ujeścisko-Łostowice' and 'Jasień' <br />\n",
    "are either quickly developing or people there are willing to change their place of living (they have the largest amounts <br />\n",
    "of new offers: 185 and 158 respectively)"
   ]
  },
  {
   "cell_type": "code",
   "execution_count": 13,
   "metadata": {},
   "outputs": [
    {
     "data": {
      "application/vnd.plotly.v1+json": {
       "config": {
        "plotlyServerURL": "https://plot.ly"
       },
       "data": [
        {
         "alignmentgroup": "True",
         "customdata": [
          [
           960000,
           399000,
           2700000
          ],
          [
           849000,
           285000,
           10900000
          ],
          [
           689000,
           349000,
           2850000
          ],
          [
           770000,
           399000,
           2550000
          ],
          [
           740000,
           365000,
           1570000
          ],
          [
           699000,
           447702,
           1475000
          ],
          [
           669000,
           319000,
           3695000
          ],
          [
           676000,
           434000,
           1327000
          ],
          [
           543974,
           241258,
           1444705
          ],
          [
           599000,
           357000,
           1460150
          ],
          [
           452000,
           320000,
           840195
          ],
          [
           522500,
           265000,
           1498000
          ],
          [
           446057,
           249200,
           1028761
          ],
          [
           448000,
           350000,
           609000
          ],
          [
           456630,
           286000,
           1090000
          ],
          [
           418091,
           320000,
           649000
          ]
         ],
         "hovertemplate": "district=%{x}<br>mean=%{y}<br>median=%{customdata[0]}<br>min=%{customdata[1]}<br>max=%{customdata[2]}<extra></extra>",
         "legendgroup": "",
         "marker": {
          "color": "#636efa",
          "pattern": {
           "shape": ""
          }
         },
         "name": "",
         "offsetgroup": "",
         "orientation": "v",
         "showlegend": false,
         "textposition": "auto",
         "type": "bar",
         "x": [
          "Oliwa",
          "Śródmieście",
          "Brzeźno",
          "Wrzeszcz",
          "Zaspa",
          "Piecki-Migowo",
          "Przymorze",
          "Letnica",
          "pomorskie",
          "Siedlce",
          "Stogi",
          "Jasień",
          "Ujeścisko-Łostowice",
          "Żabianka",
          "Chełm",
          "Orunia Górna-Gdańsk Południe"
         ],
         "xaxis": "x",
         "y": [
          1118733.48,
          1025993.14,
          931208.61,
          892643.22,
          807772.86,
          750551.72,
          737296.05,
          702358.23,
          680359.95,
          648815.23,
          557383.12,
          557293.93,
          483960.42,
          466705.88,
          465290.69,
          446851.44
         ],
         "yaxis": "y"
        }
       ],
       "layout": {
        "barmode": "relative",
        "legend": {
         "tracegroupgap": 0
        },
        "margin": {
         "t": 60
        },
        "template": {
         "data": {
          "bar": [
           {
            "error_x": {
             "color": "#2a3f5f"
            },
            "error_y": {
             "color": "#2a3f5f"
            },
            "marker": {
             "line": {
              "color": "#E5ECF6",
              "width": 0.5
             },
             "pattern": {
              "fillmode": "overlay",
              "size": 10,
              "solidity": 0.2
             }
            },
            "type": "bar"
           }
          ],
          "barpolar": [
           {
            "marker": {
             "line": {
              "color": "#E5ECF6",
              "width": 0.5
             },
             "pattern": {
              "fillmode": "overlay",
              "size": 10,
              "solidity": 0.2
             }
            },
            "type": "barpolar"
           }
          ],
          "carpet": [
           {
            "aaxis": {
             "endlinecolor": "#2a3f5f",
             "gridcolor": "white",
             "linecolor": "white",
             "minorgridcolor": "white",
             "startlinecolor": "#2a3f5f"
            },
            "baxis": {
             "endlinecolor": "#2a3f5f",
             "gridcolor": "white",
             "linecolor": "white",
             "minorgridcolor": "white",
             "startlinecolor": "#2a3f5f"
            },
            "type": "carpet"
           }
          ],
          "choropleth": [
           {
            "colorbar": {
             "outlinewidth": 0,
             "ticks": ""
            },
            "type": "choropleth"
           }
          ],
          "contour": [
           {
            "colorbar": {
             "outlinewidth": 0,
             "ticks": ""
            },
            "colorscale": [
             [
              0,
              "#0d0887"
             ],
             [
              0.1111111111111111,
              "#46039f"
             ],
             [
              0.2222222222222222,
              "#7201a8"
             ],
             [
              0.3333333333333333,
              "#9c179e"
             ],
             [
              0.4444444444444444,
              "#bd3786"
             ],
             [
              0.5555555555555556,
              "#d8576b"
             ],
             [
              0.6666666666666666,
              "#ed7953"
             ],
             [
              0.7777777777777778,
              "#fb9f3a"
             ],
             [
              0.8888888888888888,
              "#fdca26"
             ],
             [
              1,
              "#f0f921"
             ]
            ],
            "type": "contour"
           }
          ],
          "contourcarpet": [
           {
            "colorbar": {
             "outlinewidth": 0,
             "ticks": ""
            },
            "type": "contourcarpet"
           }
          ],
          "heatmap": [
           {
            "colorbar": {
             "outlinewidth": 0,
             "ticks": ""
            },
            "colorscale": [
             [
              0,
              "#0d0887"
             ],
             [
              0.1111111111111111,
              "#46039f"
             ],
             [
              0.2222222222222222,
              "#7201a8"
             ],
             [
              0.3333333333333333,
              "#9c179e"
             ],
             [
              0.4444444444444444,
              "#bd3786"
             ],
             [
              0.5555555555555556,
              "#d8576b"
             ],
             [
              0.6666666666666666,
              "#ed7953"
             ],
             [
              0.7777777777777778,
              "#fb9f3a"
             ],
             [
              0.8888888888888888,
              "#fdca26"
             ],
             [
              1,
              "#f0f921"
             ]
            ],
            "type": "heatmap"
           }
          ],
          "heatmapgl": [
           {
            "colorbar": {
             "outlinewidth": 0,
             "ticks": ""
            },
            "colorscale": [
             [
              0,
              "#0d0887"
             ],
             [
              0.1111111111111111,
              "#46039f"
             ],
             [
              0.2222222222222222,
              "#7201a8"
             ],
             [
              0.3333333333333333,
              "#9c179e"
             ],
             [
              0.4444444444444444,
              "#bd3786"
             ],
             [
              0.5555555555555556,
              "#d8576b"
             ],
             [
              0.6666666666666666,
              "#ed7953"
             ],
             [
              0.7777777777777778,
              "#fb9f3a"
             ],
             [
              0.8888888888888888,
              "#fdca26"
             ],
             [
              1,
              "#f0f921"
             ]
            ],
            "type": "heatmapgl"
           }
          ],
          "histogram": [
           {
            "marker": {
             "pattern": {
              "fillmode": "overlay",
              "size": 10,
              "solidity": 0.2
             }
            },
            "type": "histogram"
           }
          ],
          "histogram2d": [
           {
            "colorbar": {
             "outlinewidth": 0,
             "ticks": ""
            },
            "colorscale": [
             [
              0,
              "#0d0887"
             ],
             [
              0.1111111111111111,
              "#46039f"
             ],
             [
              0.2222222222222222,
              "#7201a8"
             ],
             [
              0.3333333333333333,
              "#9c179e"
             ],
             [
              0.4444444444444444,
              "#bd3786"
             ],
             [
              0.5555555555555556,
              "#d8576b"
             ],
             [
              0.6666666666666666,
              "#ed7953"
             ],
             [
              0.7777777777777778,
              "#fb9f3a"
             ],
             [
              0.8888888888888888,
              "#fdca26"
             ],
             [
              1,
              "#f0f921"
             ]
            ],
            "type": "histogram2d"
           }
          ],
          "histogram2dcontour": [
           {
            "colorbar": {
             "outlinewidth": 0,
             "ticks": ""
            },
            "colorscale": [
             [
              0,
              "#0d0887"
             ],
             [
              0.1111111111111111,
              "#46039f"
             ],
             [
              0.2222222222222222,
              "#7201a8"
             ],
             [
              0.3333333333333333,
              "#9c179e"
             ],
             [
              0.4444444444444444,
              "#bd3786"
             ],
             [
              0.5555555555555556,
              "#d8576b"
             ],
             [
              0.6666666666666666,
              "#ed7953"
             ],
             [
              0.7777777777777778,
              "#fb9f3a"
             ],
             [
              0.8888888888888888,
              "#fdca26"
             ],
             [
              1,
              "#f0f921"
             ]
            ],
            "type": "histogram2dcontour"
           }
          ],
          "mesh3d": [
           {
            "colorbar": {
             "outlinewidth": 0,
             "ticks": ""
            },
            "type": "mesh3d"
           }
          ],
          "parcoords": [
           {
            "line": {
             "colorbar": {
              "outlinewidth": 0,
              "ticks": ""
             }
            },
            "type": "parcoords"
           }
          ],
          "pie": [
           {
            "automargin": true,
            "type": "pie"
           }
          ],
          "scatter": [
           {
            "marker": {
             "colorbar": {
              "outlinewidth": 0,
              "ticks": ""
             }
            },
            "type": "scatter"
           }
          ],
          "scatter3d": [
           {
            "line": {
             "colorbar": {
              "outlinewidth": 0,
              "ticks": ""
             }
            },
            "marker": {
             "colorbar": {
              "outlinewidth": 0,
              "ticks": ""
             }
            },
            "type": "scatter3d"
           }
          ],
          "scattercarpet": [
           {
            "marker": {
             "colorbar": {
              "outlinewidth": 0,
              "ticks": ""
             }
            },
            "type": "scattercarpet"
           }
          ],
          "scattergeo": [
           {
            "marker": {
             "colorbar": {
              "outlinewidth": 0,
              "ticks": ""
             }
            },
            "type": "scattergeo"
           }
          ],
          "scattergl": [
           {
            "marker": {
             "colorbar": {
              "outlinewidth": 0,
              "ticks": ""
             }
            },
            "type": "scattergl"
           }
          ],
          "scattermapbox": [
           {
            "marker": {
             "colorbar": {
              "outlinewidth": 0,
              "ticks": ""
             }
            },
            "type": "scattermapbox"
           }
          ],
          "scatterpolar": [
           {
            "marker": {
             "colorbar": {
              "outlinewidth": 0,
              "ticks": ""
             }
            },
            "type": "scatterpolar"
           }
          ],
          "scatterpolargl": [
           {
            "marker": {
             "colorbar": {
              "outlinewidth": 0,
              "ticks": ""
             }
            },
            "type": "scatterpolargl"
           }
          ],
          "scatterternary": [
           {
            "marker": {
             "colorbar": {
              "outlinewidth": 0,
              "ticks": ""
             }
            },
            "type": "scatterternary"
           }
          ],
          "surface": [
           {
            "colorbar": {
             "outlinewidth": 0,
             "ticks": ""
            },
            "colorscale": [
             [
              0,
              "#0d0887"
             ],
             [
              0.1111111111111111,
              "#46039f"
             ],
             [
              0.2222222222222222,
              "#7201a8"
             ],
             [
              0.3333333333333333,
              "#9c179e"
             ],
             [
              0.4444444444444444,
              "#bd3786"
             ],
             [
              0.5555555555555556,
              "#d8576b"
             ],
             [
              0.6666666666666666,
              "#ed7953"
             ],
             [
              0.7777777777777778,
              "#fb9f3a"
             ],
             [
              0.8888888888888888,
              "#fdca26"
             ],
             [
              1,
              "#f0f921"
             ]
            ],
            "type": "surface"
           }
          ],
          "table": [
           {
            "cells": {
             "fill": {
              "color": "#EBF0F8"
             },
             "line": {
              "color": "white"
             }
            },
            "header": {
             "fill": {
              "color": "#C8D4E3"
             },
             "line": {
              "color": "white"
             }
            },
            "type": "table"
           }
          ]
         },
         "layout": {
          "annotationdefaults": {
           "arrowcolor": "#2a3f5f",
           "arrowhead": 0,
           "arrowwidth": 1
          },
          "autotypenumbers": "strict",
          "coloraxis": {
           "colorbar": {
            "outlinewidth": 0,
            "ticks": ""
           }
          },
          "colorscale": {
           "diverging": [
            [
             0,
             "#8e0152"
            ],
            [
             0.1,
             "#c51b7d"
            ],
            [
             0.2,
             "#de77ae"
            ],
            [
             0.3,
             "#f1b6da"
            ],
            [
             0.4,
             "#fde0ef"
            ],
            [
             0.5,
             "#f7f7f7"
            ],
            [
             0.6,
             "#e6f5d0"
            ],
            [
             0.7,
             "#b8e186"
            ],
            [
             0.8,
             "#7fbc41"
            ],
            [
             0.9,
             "#4d9221"
            ],
            [
             1,
             "#276419"
            ]
           ],
           "sequential": [
            [
             0,
             "#0d0887"
            ],
            [
             0.1111111111111111,
             "#46039f"
            ],
            [
             0.2222222222222222,
             "#7201a8"
            ],
            [
             0.3333333333333333,
             "#9c179e"
            ],
            [
             0.4444444444444444,
             "#bd3786"
            ],
            [
             0.5555555555555556,
             "#d8576b"
            ],
            [
             0.6666666666666666,
             "#ed7953"
            ],
            [
             0.7777777777777778,
             "#fb9f3a"
            ],
            [
             0.8888888888888888,
             "#fdca26"
            ],
            [
             1,
             "#f0f921"
            ]
           ],
           "sequentialminus": [
            [
             0,
             "#0d0887"
            ],
            [
             0.1111111111111111,
             "#46039f"
            ],
            [
             0.2222222222222222,
             "#7201a8"
            ],
            [
             0.3333333333333333,
             "#9c179e"
            ],
            [
             0.4444444444444444,
             "#bd3786"
            ],
            [
             0.5555555555555556,
             "#d8576b"
            ],
            [
             0.6666666666666666,
             "#ed7953"
            ],
            [
             0.7777777777777778,
             "#fb9f3a"
            ],
            [
             0.8888888888888888,
             "#fdca26"
            ],
            [
             1,
             "#f0f921"
            ]
           ]
          },
          "colorway": [
           "#636efa",
           "#EF553B",
           "#00cc96",
           "#ab63fa",
           "#FFA15A",
           "#19d3f3",
           "#FF6692",
           "#B6E880",
           "#FF97FF",
           "#FECB52"
          ],
          "font": {
           "color": "#2a3f5f"
          },
          "geo": {
           "bgcolor": "white",
           "lakecolor": "white",
           "landcolor": "#E5ECF6",
           "showlakes": true,
           "showland": true,
           "subunitcolor": "white"
          },
          "hoverlabel": {
           "align": "left"
          },
          "hovermode": "closest",
          "mapbox": {
           "style": "light"
          },
          "paper_bgcolor": "white",
          "plot_bgcolor": "#E5ECF6",
          "polar": {
           "angularaxis": {
            "gridcolor": "white",
            "linecolor": "white",
            "ticks": ""
           },
           "bgcolor": "#E5ECF6",
           "radialaxis": {
            "gridcolor": "white",
            "linecolor": "white",
            "ticks": ""
           }
          },
          "scene": {
           "xaxis": {
            "backgroundcolor": "#E5ECF6",
            "gridcolor": "white",
            "gridwidth": 2,
            "linecolor": "white",
            "showbackground": true,
            "ticks": "",
            "zerolinecolor": "white"
           },
           "yaxis": {
            "backgroundcolor": "#E5ECF6",
            "gridcolor": "white",
            "gridwidth": 2,
            "linecolor": "white",
            "showbackground": true,
            "ticks": "",
            "zerolinecolor": "white"
           },
           "zaxis": {
            "backgroundcolor": "#E5ECF6",
            "gridcolor": "white",
            "gridwidth": 2,
            "linecolor": "white",
            "showbackground": true,
            "ticks": "",
            "zerolinecolor": "white"
           }
          },
          "shapedefaults": {
           "line": {
            "color": "#2a3f5f"
           }
          },
          "ternary": {
           "aaxis": {
            "gridcolor": "white",
            "linecolor": "white",
            "ticks": ""
           },
           "baxis": {
            "gridcolor": "white",
            "linecolor": "white",
            "ticks": ""
           },
           "bgcolor": "#E5ECF6",
           "caxis": {
            "gridcolor": "white",
            "linecolor": "white",
            "ticks": ""
           }
          },
          "title": {
           "x": 0.05
          },
          "xaxis": {
           "automargin": true,
           "gridcolor": "white",
           "linecolor": "white",
           "ticks": "",
           "title": {
            "standoff": 15
           },
           "zerolinecolor": "white",
           "zerolinewidth": 2
          },
          "yaxis": {
           "automargin": true,
           "gridcolor": "white",
           "linecolor": "white",
           "ticks": "",
           "title": {
            "standoff": 15
           },
           "zerolinecolor": "white",
           "zerolinewidth": 2
          }
         }
        },
        "xaxis": {
         "anchor": "y",
         "domain": [
          0,
          1
         ],
         "title": {
          "text": "district"
         }
        },
        "yaxis": {
         "anchor": "x",
         "domain": [
          0,
          1
         ],
         "title": {
          "text": "mean"
         }
        }
       }
      }
     },
     "metadata": {},
     "output_type": "display_data"
    }
   ],
   "source": [
    "fig = px.bar(stats_by_district.reset_index(), x='district', y='mean', hover_data=['mean', 'median', \"min\", \"max\"])\n",
    "fig.show()"
   ]
  },
  {
   "cell_type": "markdown",
   "metadata": {},
   "source": [
    "#### **How number of rooms impacts the price?** "
   ]
  },
  {
   "cell_type": "code",
   "execution_count": 14,
   "metadata": {},
   "outputs": [
    {
     "data": {
      "text/html": [
       "<div>\n",
       "<style scoped>\n",
       "    .dataframe tbody tr th:only-of-type {\n",
       "        vertical-align: middle;\n",
       "    }\n",
       "\n",
       "    .dataframe tbody tr th {\n",
       "        vertical-align: top;\n",
       "    }\n",
       "\n",
       "    .dataframe thead th {\n",
       "        text-align: right;\n",
       "    }\n",
       "</style>\n",
       "<table border=\"1\" class=\"dataframe\">\n",
       "  <thead>\n",
       "    <tr style=\"text-align: right;\">\n",
       "      <th></th>\n",
       "      <th>mean</th>\n",
       "      <th>median</th>\n",
       "      <th>min</th>\n",
       "      <th>max</th>\n",
       "      <th>len</th>\n",
       "    </tr>\n",
       "    <tr>\n",
       "      <th>rooms</th>\n",
       "      <th></th>\n",
       "      <th></th>\n",
       "      <th></th>\n",
       "      <th></th>\n",
       "      <th></th>\n",
       "    </tr>\n",
       "  </thead>\n",
       "  <tbody>\n",
       "    <tr>\n",
       "      <th>1.0</th>\n",
       "      <td>399227.42</td>\n",
       "      <td>369000.0</td>\n",
       "      <td>249200.0</td>\n",
       "      <td>794970.0</td>\n",
       "      <td>91</td>\n",
       "    </tr>\n",
       "    <tr>\n",
       "      <th>2.0</th>\n",
       "      <td>575595.26</td>\n",
       "      <td>499000.0</td>\n",
       "      <td>241258.0</td>\n",
       "      <td>2758000.0</td>\n",
       "      <td>481</td>\n",
       "    </tr>\n",
       "    <tr>\n",
       "      <th>3.0</th>\n",
       "      <td>773084.39</td>\n",
       "      <td>679000.0</td>\n",
       "      <td>320000.0</td>\n",
       "      <td>3456950.0</td>\n",
       "      <td>437</td>\n",
       "    </tr>\n",
       "    <tr>\n",
       "      <th>4.0</th>\n",
       "      <td>1025763.04</td>\n",
       "      <td>826714.0</td>\n",
       "      <td>449500.0</td>\n",
       "      <td>4400000.0</td>\n",
       "      <td>144</td>\n",
       "    </tr>\n",
       "    <tr>\n",
       "      <th>5.0</th>\n",
       "      <td>1268253.40</td>\n",
       "      <td>1028761.0</td>\n",
       "      <td>595000.0</td>\n",
       "      <td>4300000.0</td>\n",
       "      <td>31</td>\n",
       "    </tr>\n",
       "  </tbody>\n",
       "</table>\n",
       "</div>"
      ],
      "text/plain": [
       "             mean     median       min        max  len\n",
       "rooms                                                 \n",
       "1.0     399227.42   369000.0  249200.0   794970.0   91\n",
       "2.0     575595.26   499000.0  241258.0  2758000.0  481\n",
       "3.0     773084.39   679000.0  320000.0  3456950.0  437\n",
       "4.0    1025763.04   826714.0  449500.0  4400000.0  144\n",
       "5.0    1268253.40  1028761.0  595000.0  4300000.0   31"
      ]
     },
     "execution_count": 14,
     "metadata": {},
     "output_type": "execute_result"
    }
   ],
   "source": [
    "stats_by_num_rooms = summarise_stats(groupby = \"rooms\", values_column = \"price\", min_count = 15)\n",
    "stats_by_num_rooms.sort_values(by = \"mean\")"
   ]
  },
  {
   "cell_type": "code",
   "execution_count": 15,
   "metadata": {},
   "outputs": [
    {
     "name": "stderr",
     "output_type": "stream",
     "text": [
      "C:\\Users\\budcr\\AppData\\Local\\Temp/ipykernel_17260/2704619711.py:1: UserWarning:\n",
      "\n",
      "Boolean Series key will be reindexed to match DataFrame index.\n",
      "\n"
     ]
    },
    {
     "data": {
      "text/plain": [
       "<AxesSubplot:xlabel='rooms', ylabel='price'>"
      ]
     },
     "execution_count": 15,
     "metadata": {},
     "output_type": "execute_result"
    },
    {
     "data": {
      "image/png": "[encoded data removed]",
      "text/plain": [
       "<Figure size 576x504 with 1 Axes>"
      ]
     },
     "metadata": {},
     "output_type": "display_data"
    }
   ],
   "source": [
    "data_boxplot = alldata[alldata.rooms < 6][alldata.price < 3000000]\n",
    "\n",
    "plt.figure(figsize=(8,7))\n",
    "fig = sns.boxplot(data=data_boxplot, x=\"rooms\", y=\"price\")\n",
    "fig"
   ]
  },
  {
   "cell_type": "markdown",
   "metadata": {},
   "source": [
    "**Important note**: I have intenionally sliced the dataset to better ilustrate the distributions. <br />\n",
    "I also included only properties with 5 rooms at maximum and with price lower then 3 million PLN. <br />\n",
    " Decreasing the amount of outliers raises the readability of the boxplots."
   ]
  },
  {
   "cell_type": "markdown",
   "metadata": {},
   "source": [
    "## **Analysis - Qualitative variables**\n",
    "\n",
    "What is necessary?\n",
    "What parameters to include"
   ]
  },
  {
   "cell_type": "markdown",
   "metadata": {},
   "source": [
    "#### **Cleaning qualitative variables columns**\n",
    "\n",
    "Turning columns into boolen format:\n",
    "- `seller_type` - is private (0/1)\n",
    "- `market` - 0 - secondary, 1 - primary market\n",
    "- `elevator`- has elevator (0/1)\n",
    "- `balcony` - has balcony/garden (0/1)\n",
    "- `garage` - has garage (0/1)\n",
    "- `extra_info` - splitting into two new columns: `cellar` and `utility_room`. "
   ]
  },
  {
   "cell_type": "code",
   "execution_count": 43,
   "metadata": {},
   "outputs": [],
   "source": [
    "def format_seller_type(value):\n",
    "    if value == \"prywatny\": value = 1\n",
    "    else: value = 0\n",
    "    return value\n",
    "    \n",
    "def format_market(value): \n",
    "    if value == \"wtorny\": value = 0\n",
    "    else: value = 1\n",
    "    return value\n",
    "\n",
    "def format_elevator(value):\n",
    "    if value == \"tak\": value = 1\n",
    "    else: value = 0\n",
    "    return value\n",
    "    \n",
    "def format_balcony(value): \n",
    "    if isinstance(value, str):\n",
    "        if \"balkon\" in value or \"taras\" in value: \n",
    "            value = 1\n",
    "        else: value = 0\n",
    "    else: value = 0\n",
    "    return value\n",
    "\n",
    "def format_garage(value): \n",
    "    if isinstance(value, str):\n",
    "        if \"garaż\" in value: value = 1\n",
    "        else: value = 0\n",
    "    else: value = 0\n",
    "    return value\n",
    "\n",
    "def format_cellar(value): \n",
    "    if isinstance(value, str):\n",
    "        if \"piwnica\" in value: value = 1\n",
    "        else: value = 0\n",
    "    else: value = 0\n",
    "    return value\n",
    "\n",
    "def format_utiliity_room(value): \n",
    "    if isinstance(value, str):\n",
    "        if \"pom. użytkowe\" in value: \n",
    "            value = 1   \n",
    "        else: value = 0\n",
    "    else: value = 0\n",
    "    return value"
   ]
  },
  {
   "cell_type": "code",
   "execution_count": 73,
   "metadata": {},
   "outputs": [],
   "source": [
    "alldata.seller_type = alldata.seller_type.apply(format_seller_type)\n",
    "alldata.market = alldata.market.apply(format_market)\n",
    "alldata.elevator = alldata.elevator.apply(format_elevator)\n",
    "alldata.balcony = alldata.balcony.apply(format_balcony)\n",
    "alldata.garage = alldata.garage.apply(format_garage)\n",
    "\n",
    "\n",
    "alldata.loc[:, \"cellar\"] = alldata[\"extra_info\"].apply(format_cellar)\n",
    "alldata.loc[:, \"utility_room\"] = alldata[\"extra_info\"].apply(format_utiliity_room)"
   ]
  },
  {
   "cell_type": "markdown",
   "metadata": {},
   "source": [
    "#### **Does garage increase the average cost of the property?**"
   ]
  },
  {
   "cell_type": "code",
   "execution_count": null,
   "metadata": {},
   "outputs": [],
   "source": []
  },
  {
   "cell_type": "markdown",
   "metadata": {},
   "source": [
    "#### **What are the differances between offers from secondary compared to primary market?**"
   ]
  },
  {
   "cell_type": "code",
   "execution_count": null,
   "metadata": {},
   "outputs": [],
   "source": []
  },
  {
   "cell_type": "markdown",
   "metadata": {},
   "source": [
    "## **Analysis - Regression model**\n",
    "\n",
    "What is necessary?\n",
    "What parameters to include"
   ]
  },
  {
   "cell_type": "code",
   "execution_count": 76,
   "metadata": {},
   "outputs": [],
   "source": [
    "x = alldata[['area', 'rooms', 'balcony', \n",
    "             'garage', 'elevator', 'cellar', 'utility_room', \n",
    "             'balcony', 'market', 'seller_type']]\n",
    "\n",
    "y = alldata[['price']]\n",
    "\n",
    "x_train, x_test, y_train, y_test = train_test_split(x, y, train_size = 0.8, test_size = 0.2)\n",
    "\n",
    "x.to_csv(\"ML.csv\")"
   ]
  },
  {
   "cell_type": "code",
   "execution_count": 77,
   "metadata": {},
   "outputs": [
    {
     "name": "stdout",
     "output_type": "stream",
     "text": [
      "[[ 12919.70400858 -48695.42064962 -11430.0770966   19306.4526537\n",
      "  143531.75087865 -63013.98476898  48396.48433173 -11430.0770966\n",
      "       0.          81660.37567818]]\n"
     ]
    }
   ],
   "source": [
    "mlr = LinearRegression()\n",
    "\n",
    "model = mlr.fit(x_train, y_train)\n",
    "\n",
    "y_predict = mlr.predict(x_test)\n",
    "\n",
    "# Input code here:\n",
    "print(mlr.coef_)"
   ]
  }
 ],
 "metadata": {
  "interpreter": {
   "hash": "1a9bc99df0359bce16b0c609e604cee8ef3c1347b76e75c90e3c02ffd22e8200"
  },
  "kernelspec": {
   "display_name": "Python 3.10.0 64-bit",
   "language": "python",
   "name": "python3"
  },
  "language_info": {
   "codemirror_mode": {
    "name": "ipython",
    "version": 3
   },
   "file_extension": ".py",
   "mimetype": "text/x-python",
   "name": "python",
   "nbconvert_exporter": "python",
   "pygments_lexer": "ipython3",
   "version": "3.10.0"
  },
  "orig_nbformat": 4
 },
 "nbformat": 4,
 "nbformat_minor": 2
}
